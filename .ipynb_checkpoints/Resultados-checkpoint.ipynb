{
 "cells": [
  {
   "cell_type": "markdown",
   "id": "6f0307b7-8a97-44e9-80bd-39952e87223e",
   "metadata": {
    "panel-layout": {
     "height": 1426.933349609375,
     "visible": true,
     "width": 100
    }
   },
   "source": [
    "# Proyecto $\\Lambda CDM$\n",
    "\n",
    "En la presente notebook, en forma de resumen, se muestran resultados teóricos, así como el código que se utiliza para hacer estimaciones, de tal forma de corroborar la teoría.\n",
    "\n",
    "## Ley de Hubble\n",
    "\n",
    "Hubble y Humason, hicieron observaciones, las cuales les ayudaron a estimar dos importantes resultados\n",
    "\n",
    "1. Distancia de decenas de galaxias.\n",
    "2. Uno de los resultados que se utilizaran más adelante, es la proyección de su velocidad a lo largo de la línea de visión conocida como \"_**velocidad de recesión**_\", la cual se mide partiendo del corrimiento Doppler de la luz emitida por estrellas, algo importante a destacar es que se percataron de que entre más lejana es una galaxia, mayor es la velocidad de recesión. Además, la distancio y velocidad de recesión son proporcionales, y más aún la constante de proporcionalidad es la misma para todas las galaxias, de esta manera llegaron a lo que se conoce como **\"Ley de Hubble\"**\n",
    "\n",
    "<p style=\"border:2px solid Tomato;\"> $$V_r = H_0 d_L$$ </p>\n",
    "\n",
    "Donde \n",
    "\n",
    "- $H_0 \\simeq 70 km/s Mpc^{-1} \\rightarrow$  corresponde a la constante de Hubble\n",
    "- $d_L \\rightarrow$ distancia luminosa\n",
    "\n",
    "\n",
    "## Coordenadas comoviles, coordenadas propias y factor de escala\n",
    "\n",
    "<p style=\"color:rgb(71, 178, 255);\"> \"Coordenadas comoviles\"</p>\n",
    "\n",
    "- Etiqueta de la posición de las partículas, donde dichas partículas son galaxias, también se conoce como coordenadas de un <p style=\"color:Orange;\">\"observador comovil\"</p>\n",
    "\n",
    "<p style=\"color:rgb(71, 178, 255);\"> \"Observador comovil\"</p>\n",
    "\n",
    "- En un espacio curvo, es aquel que viaja anclado a partículas de prueba, la cual está aislada de otras partículas, la cual se mueve a lo largo de geodésicas de la métrica del espacio curvo, en las geodésicas de un universo homogéneo e isótropo, en expansión, sus coordenadas están “ancladas” a la expansión.\n",
    "\n",
    "Algo importante a mencionar, es que cuando hablamos de coordenadas comoviles las etiquetas no cambian, sin embargo, en el caso de las coordenadas físicas las etiquetas de los puntos sí cambian, a estas también se les conoce como <span style=\"color:Orange;\">coordenadas propias</span> y están dadas por\n",
    "\n",
    "<p style=\"border:2px solid Tomato;\"> $$\\begin{equation} r=a(t)x \\end{equation}$$ </p>\n",
    "\n",
    "Donde\n",
    "\n",
    "$a(t)\\rightarrow$  es el <span style=\"color: Orange;\"> factor de escala</span>, que es una tasa de crecimiento de las distancias.\n",
    "\n",
    "Partiendo de la anterior ecuación, se puede deducir la ley de Hubble, únicamente se hace la derivada respecto al tiempo.\n",
    "\n",
    "$$\\begin{equation} v_r=\\dot{r}=\\frac{\\dot{a}}{a}ax+a\\dot{x} \\end{equation}$$ \n",
    "\n",
    "donde $r$ corresponde a la posición de una galaxia aislada, además se puede ignorar el segundo término del lado derecho, y adicional a esto se puede definir la tasa como $H$ es decir $H(t)=\\frac{\\dot{a}}{a}$, lo cual queda como \n",
    "\n",
    "<p style=\"border:2px solid Tomato;\"> $$\\begin{equation} v_r=H(t)r \\end{equation}$$ </p>\n",
    "\n",
    "Que corresponde a la velocidad de recesión\n",
    "\n",
    "\n",
    "## Métrica de Friedmann-Robertson-Walker (FRW)\n",
    "\n",
    "La métrica de LFRW representa la geometría que mejor se adapta al principio cosmológico y las observaciones de la expansión del universo, además esta se puede asociar a un elemento diferencial de línea que proporciona una forma de calcular distancias infinitesimales en dicho espacio, dicho lo anterior, esta métrica se representa de la siguiente manera.\n",
    "\n",
    "<p style=\"border:2px solid Tomato;\"> $$\\begin{equation} ds^2 = dt^2 - a^2(t)\\left[\\frac{dr^2}{1-kr^2}+r^2d\\theta^2+r^2\\sin^2{\\theta}d\\phi^2\\right]\\end{equation}$$ </p>\n",
    "\n",
    "En este caso, como ya mencionamos, el factor de escala se representa como $a(t)$, y, por otra parte, la coordenada radial $r$ no tiene unidades, y además $k$ representa el tipo de curvatura del espacio, y puede adquirir los siguientes valores.\n",
    "\n",
    "<p style=\"color:Orange;\"> $$k= \\begin{cases}+1 & \\text { universo cerrado } \\\\ 0 & \\text { universo plano } \\\\ -1 & \\text { universo abierto }\\end{cases}$$ </p>\n",
    "\n",
    "Estos valores son independientes del tamaño del universo, además si nuestro universo es plano o abierto, puede ser infinitamente grande, sin embargo, para el caso $k=+1$, se puede mostrar que la métrica LFRW corresponde a la métrica de una esfera.\n",
    "\n",
    "Por otra parte, si consideramos que el universo se rige por las ecuaciones de Einstein. \n",
    "\n",
    "<p style=\"border:2px solid Tomato;\">$$R_{\\mu\\nu}-\\frac{1}{2}g_{\\mu\\nu}R = 8\\pi T_{\\mu\\nu}$$</p>\n",
    "\n",
    "Donde $R_{\\mu\\nu}$ corresponde al tensro de Ricci, $R$ se le conoce como escalar de Ricci, $T_{\\mu\\nu}$ corresponde al tensor de energía-momento y, finalmente, $g_{\\mu\\nu}$ es la metrica.\n",
    "\n",
    "Además, el tensor de energía-momento tiene la forma siguiente.\n",
    "\n",
    "$$\\left(T^\\mu_{\\nu}\\right) = diag(\\rho,-P,-P,-P)$$\n",
    "\n",
    "Donde $\\rho$ corresponde a la densidad de energía y $P$ la presión del fluido, de manera que el universo se puede modelar como un fluido perfecto.\n",
    "\n",
    "Por otra parte las componentes no nulas del tensor de Ricci están dadas de la siguiente manera \n",
    "\n",
    "$$\n",
    "R_{00} = -3 \\frac{\\ddot{a}}{a}\n",
    "$$\n",
    "\n",
    "$$\n",
    "R_{ij} = -\\left[\\frac{\\ddot{a}}{a} + 2\\left(\\frac{\\dot{a}}{a}\\right)^2 +2\\frac{k}{a^2}\\right]g_{ij}\n",
    "$$\n",
    "\n",
    "y el escalar de Ricci \n",
    "\n",
    "$$\n",
    "R = -6 \\left[\\frac{\\ddot{a}}{a} + \\left(\\frac{\\dot{a}}{a}\\right)^2+\\frac{k}{a^2}\\right]\n",
    "$$\n",
    "\n",
    "Si consideramos la componente $(\\mu,\\nu)=(0,0)$  de la ecuacion de Einstein, y sustituyendo lo anterior, que son las compnente no nulas del tensor de Ricci, nos queda lo siguiente.\n",
    "\n",
    "$$\n",
    "R_{00}-\\frac{1}{2}g_{00}R = 8\\pi T_{00}\n",
    "$$\n",
    "\n",
    "$$\n",
    "-3\\frac{\\ddot{a}}{a} + \\frac{6}{2}\\left[\\frac{\\ddot{a}}{a} + \\left(\\frac{\\dot{a}}{a}\\right)^2+\\frac{k}{a^2}\\right]=8\\pi\\rho\n",
    "$$\n",
    "Simplificando lo anterior nos queda lo siguiente \n",
    "\n",
    "$$\\begin{equation}\n",
    "3\\left[\\left(\\frac{\\dot{a}}{a}\\right)^2+\\frac{k}{a^2}\\right] = 8\\pi \\rho\n",
    "\\end{equation}$$\n",
    "\n",
    "O bien escrito de otra manera.\n",
    "\n",
    "<p style=\"border:2px solid Tomato;\">$$\\begin{equation}\n",
    "    \\left(\\frac{\\dot{a}}{a}\\right)^2 + \\frac{k}{a^2} = \\frac{8}{3}\\pi\\rho\n",
    "    \\end{equation}$$</p>\n",
    "\n",
    "Recordando lo que se discutió en la sección de <span style=\"color:Orange;\">Ley de Hubble</span> y la de <span style=\"color:Orange;\">Coordenadas comoviles, coordenadas propias y el factor de escala</span>, la anterior ecuación se puede reescribir de la siguiente forma.\n",
    "\n",
    "<p style=\"border:2px solid Tomato;\">$$\\begin{equation}\n",
    "    H^2 + \\frac{k}{a^2} = \\frac{8}{3}\\pi\\rho\n",
    "    \\end{equation}$$</p>\n",
    "\n",
    "La cual se conoce como <span style=\"color:Orange;\">La ecuación de Friedmann</span>"
   ]
  },
  {
   "cell_type": "code",
   "execution_count": 1,
   "id": "859ee632-2411-4fcb-a320-f5e78ae7b0a0",
   "metadata": {
    "panel-layout": {
     "height": 0,
     "visible": true,
     "width": 100
    }
   },
   "outputs": [],
   "source": [
    "from metodos.EDO import EDO\n",
    "import numpy as np\n",
    "import matplotlib.pyplot as plt\n",
    "import seaborn as sns\n",
    "from scipy.integrate import quad\n",
    "import astropy.constants as con\n",
    "import pandas as pd\n",
    "from numpympy\n",
    "\n",
    "plt.style.use('ggplot')"
   ]
  },
  {
   "cell_type": "code",
   "execution_count": 3,
   "id": "75370977-b77e-49f9-bfbb-979f3f297142",
   "metadata": {
    "editable": true,
    "slideshow": {
     "slide_type": ""
    },
    "tags": []
   },
   "outputs": [],
   "source": [
    "def friedmann(a, t, params):\n",
    "    omega_co, omega_ro = params\n",
    "    omega_Ao = 1 - omega_co - omega_ro\n",
    "    return a * np.sqrt(omega_co * a**(-3) + omega_ro * a**(-4) + omega_Ao)"
   ]
  },
  {
   "cell_type": "code",
   "execution_count": 5,
   "id": "68b0508c-72d5-48ee-9b9a-e7e8566d1b87",
   "metadata": {
    "editable": true,
    "slideshow": {
     "slide_type": ""
    },
    "tags": []
   },
   "outputs": [],
   "source": [
    "t_i = 1e-10\n",
    "t_f = 2\n",
    "t_valores = np.linspace(t_i,t_f,1000)\n",
    "omega_co = 0.3\n",
    "omega_ro = 0\n",
    "a_i = 1"
   ]
  },
  {
   "cell_type": "code",
   "execution_count": 7,
   "id": "252ed1bc-e890-4332-a116-95aeabae54c2",
   "metadata": {},
   "outputs": [],
   "source": [
    "a_valores = EDO.rk4Solve(friedmann,[a_i],t_valores,(omega_co,omega_ro))"
   ]
  },
  {
   "cell_type": "code",
   "execution_count": 9,
   "id": "5d4e952d-5893-49e4-a9d1-a0982c53277b",
   "metadata": {},
   "outputs": [
    {
     "data": {
      "text/plain": [
       "(0.0, 1.5)"
      ]
     },
     "execution_count": 9,
     "metadata": {},
     "output_type": "execute_result"
    },
    {
     "data": {
      "image/png": "[encoded data removed]",
      "text/plain": [
       "<Figure size 640x480 with 1 Axes>"
      ]
     },
     "metadata": {},
     "output_type": "display_data"
    }
   ],
   "source": [
    "plt.plot(t_valores,a_valores)\n",
    "plt.xlim(0,1.5)"
   ]
  },
  {
   "cell_type": "markdown",
   "id": "c35fdd75-8eb6-4e18-8fcd-cddf7753da15",
   "metadata": {},
   "source": [
    "## Solución con el método de Shooting (o de disparo)"
   ]
  },
  {
   "cell_type": "code",
   "execution_count": 12,
   "id": "0f08e7d2-f1fb-41f9-9ea9-1516e54ba545",
   "metadata": {},
   "outputs": [],
   "source": [
    "def Hubble_Time(H0):\n",
    "    yr=365*24*60*60\n",
    "    seg=1./yr # un segundo en años\n",
    "    seg=seg*1e-9 # un segundo en Giga-años\n",
    "    Mpc=con.parsec*1e6*1e-3 ## parsec a metros y luego a kilometros\n",
    "    H0_s=H0/Mpc  # H0 a 1/s\n",
    "    t=1./H0_s # tiempo de Hubble en segundos\n",
    "    t=t*seg # \" \" en Giga-años\n",
    "    return t"
   ]
  },
  {
   "cell_type": "code",
   "execution_count": 14,
   "id": "fe394af6-96bf-4a40-9509-aad51803e2ba",
   "metadata": {},
   "outputs": [],
   "source": [
    "def h(z, Ω_dm, Ω_r, Ω_l, w_l, H0):\n",
    "    # Ecuación de Hubble modificada\n",
    "    H_squared = (\n",
    "        Ω_dm * (1 + z)**3 +         # Materia oscura (P=0 ⇒ w=0)\n",
    "        Ω_r * (1 + z)**4 +          # Radiación (P=ρ/3 ⇒ w=1/3)\n",
    "        Ω_l * (1 + z)**(3*(1 + w_l)) # Energía oscura (P=w_l*ρ)\n",
    "    )\n",
    "    return H0 * np.sqrt(H_squared)\n",
    "\n",
    "def integrando(z, Ω_dm, Ω_r, Ω_l, w_l, H0):\n",
    "    c = con.c.to('km/s').value\n",
    "    return c / h(z, Ω_dm, Ω_r, Ω_l, w_l, H0)\n",
    "\n",
    "def χ(z, Ω_dm, Ω_r, Ω_l, w_l, H0):\n",
    "    return quad(integrando, 1e-6, z, args=(Ω_dm, Ω_r, Ω_l, w_l, H0))[0]\n",
    "\n",
    "χ = np.vectorize(χ)\n",
    "\n",
    "def dL(z, Ω_dm, Ω_r, Ω_l, w_l, H0):\n",
    "    return (1 + z) * χ(z, Ω_dm, Ω_r, Ω_l, w_l, H0)\n",
    "\n",
    "def mu(z, Ω_dm, Ω_r, Ω_l, w_l, H0):\n",
    "    return 5 * np.log10(dL(z, Ω_dm, Ω_r, Ω_l, w_l, H0) * 1e6) - 5"
   ]
  },
  {
   "cell_type": "code",
   "execution_count": 16,
   "id": "24a465f5-9652-4767-9313-fce86ee0ef3a",
   "metadata": {},
   "outputs": [],
   "source": [
    "file = open('./SCPUnion2_mu_vs_z.txt')"
   ]
  },
  {
   "cell_type": "code",
   "execution_count": 18,
   "id": "03fcd314-9980-4731-afde-afd320274aaa",
   "metadata": {},
   "outputs": [],
   "source": [
    "data1 = pd.read_csv(file, skiprows=6, delimiter=\"\\t\",header=None,usecols=[1,2,3])\n",
    "data1.columns=['$z$','$\\mu$','$\\sigma_\\mu$']"
   ]
  },
  {
   "cell_type": "code",
   "execution_count": 20,
   "id": "ad4046f2-c2c8-4f59-9239-de9e2d262b7c",
   "metadata": {},
   "outputs": [
    {
     "data": {
      "text/plain": [
       "<Figure size 640x480 with 0 Axes>"
      ]
     },
     "metadata": {},
     "output_type": "display_data"
    },
    {
     "data": {
      "image/png": "[encoded data removed]",
      "text/plain": [
       "<Figure size 800x600 with 1 Axes>"
      ]
     },
     "metadata": {},
     "output_type": "display_data"
    }
   ],
   "source": [
    "z = np.linspace(0.001, 10,  1000)\n",
    "\n",
    "Ωm = [0.1,0.2,0.3,0.4,0.5,0.6,0.7,0.8,0.9]\n",
    "Ωl = [0.9,0.8,0.7,0.6,0.5,0.4,0.3,0.2,0.1]\n",
    "Ωr = 8.5e-5\n",
    "label = ['$\\Omega_m={},\\Omega_\\Lambda={},\\Omega_r$'.format(om,ol,8.5e-5) for om,ol in zip(Ωm,Ωl)]\n",
    "\n",
    "\n",
    "fig=plt.figure()\n",
    "data1.plot(x='$z$', y='$\\mu$', yerr='$\\sigma_\\mu$', kind='scatter',figsize=(8,6))\n",
    "[plt.plot(z,mu(z,Ωm[i],Ωr,Ωl[i],-1,70),label=label[i]) for i in range(9)]\n",
    "\n",
    "plt.xlim(0,1.5)\n",
    "plt.xlabel('$z$')\n",
    "plt.ylabel('$\\mu$')\n",
    "plt.legend()\n",
    "plt.grid(True)\n",
    "plt.show()"
   ]
  },
  {
   "cell_type": "code",
   "execution_count": 22,
   "id": "cc67e1f4-1627-43f3-a130-b52e340f6db0",
   "metadata": {},
   "outputs": [],
   "source": [
    "def PoissonLikelihood(dat, model_prediction):\n",
    "    loglike=0.0\n",
    "    for x, L in zip(dat, model_prediction):\n",
    "        if(L>0.0):\n",
    "            loglike = loglike - L + x*np.log(L)\n",
    "    return loglike\n",
    "\n",
    "def GaussianLikelihood(x_dat,x_teoria,sigma_d):\n",
    "    return np.sum(-(x_dat-x_teoria)**2/(2*sigma_d**2))"
   ]
  },
  {
   "cell_type": "code",
   "execution_count": 24,
   "id": "0a3da2c2-d1ea-435b-aea5-1038fc384911",
   "metadata": {},
   "outputs": [],
   "source": [
    "z = data1['$z$'].values\n",
    "mu_data = data1['$\\mu$'].values\n",
    "mu_err = data1['$\\sigma_\\mu$'].values"
   ]
  },
  {
   "cell_type": "code",
   "execution_count": 36,
   "id": "6e594312-b2c5-4156-a9c9-34e76d2ad1d8",
   "metadata": {},
   "outputs": [],
   "source": [
    "Om_min= 0.\n",
    "Om_max= 1.\n",
    "\n",
    "Ol_min = 0.\n",
    "Ol_max = 1.\n",
    "\n",
    "H0_min= 50.\n",
    "H0_max= 100."
   ]
  },
  {
   "cell_type": "code",
   "execution_count": 38,
   "id": "4dfea297-73d6-43a3-a19c-117adc31d93c",
   "metadata": {},
   "outputs": [],
   "source": [
    "Om = 0.3\n",
    "Ol = 0.2\n",
    "H0 = 70"
   ]
  },
  {
   "cell_type": "code",
   "execution_count": 133,
   "id": "f1afc631-5b5b-4d62-a95f-5e54004a13e1",
   "metadata": {},
   "outputs": [],
   "source": [
    "sigma_Om = 0.1\n",
    "sigma_Ol = 0.1\n",
    "sigma_H0 = 0.1"
   ]
  },
  {
   "cell_type": "code",
   "execution_count": 135,
   "id": "9d36ab7e-ab7f-4db2-b12a-1710ae231420",
   "metadata": {},
   "outputs": [],
   "source": [
    "# Inicialización de variables:\n",
    "random=0.0\n",
    "like = 1e-20\n",
    "loglike=np.log(like)\n",
    "#Numero total de iteraciones\n",
    "Number_of_steeps = 1000\n",
    "#Numero de pasos iniciales antes de truncar la cadena\n",
    "Burn_in_Time = 20\n",
    "# Archivo de salida donde se escriben los pasos aceptados\n",
    "cadena_lcdm = []"
   ]
  },
  {
   "cell_type": "code",
   "execution_count": 137,
   "id": "fe605fcc-c96b-48df-9066-dd843251b717",
   "metadata": {},
   "outputs": [],
   "source": [
    "for i in range(Number_of_steeps):\n",
    "\n",
    "    # Escogiendo aleatoriamente un numero x2c de una muestra con distribucion normal (la distribucion propuesta q)\n",
    "\n",
    "\n",
    "    Om_try=abs(np.random.normal(Om,sigma_Om))\n",
    "    \n",
    "\n",
    "     # Si resulta que el valor del parametro se sale del rango permitido (λ1_min,λ1_max) entonces vuelve\n",
    "    # a escoger un valor nuevo.\n",
    "    while (Om_max<Om_try or Om_try<Om_min):\n",
    "        Om_try=abs(np.random.normal(Om,sigma_Om))\n",
    "\n",
    "    Ol_try = 1 - Om_try - Ωr\n",
    "\n",
    "    H0_try=abs(np.random.normal(H0,sigma_H0))\n",
    "    while  (H0_max<H0_try or H0_try<H0_min):\n",
    "        H0_try=abs(np.random.normal(H0,sigma_H0))\n",
    "\n",
    "\n",
    "    #Calculando la prediccion teórica usando la libreria que calcula predicciones teoricas\n",
    "    mu_theory=mu(z,Om_try,Ωr,Ol_try,-1,H0_try)\n",
    "\n",
    "    # Calculando la funcion de verosimilitud o likelihood (Poissoniana) para el punto inicial y los datos\n",
    "    #loglike_try = PoissonLikelihood(mu_data, mu_theory)\n",
    "    loglike_try = GaussianLikelihood(mu_data, mu_theory, mu_err)\n",
    "    #print(loglike_try)\n",
    "    if(np.isnan(loglike_try)==False):\n",
    "\n",
    "    #  Calculando la probabilidad de aceptación para el punto de prueba x2c:\n",
    "\n",
    "        if (loglike_try < loglike and i>0):\n",
    "            random = np.random.uniform(0.0,1.0)\n",
    "        # P(D|x2)q(x1|x2)/P(D|x1)q(x2|x1), q es gaussiana (~e^{(x1-x2)^2/sigma^2}) entonces q(x1|x2)=q(x2|x1)\n",
    "            accepted = np.exp(loglike_try - loglike)\n",
    "        else:\n",
    "            accepted = 1.\n",
    "\n",
    "     # Aqui se está tomando la decisión de si aceptar a x2c con probabilidad uniforme accepted\n",
    "\n",
    "    if ( random < accepted):\n",
    "        Om = Om_try\n",
    "        Ol = Ol_try\n",
    "        H0 = H0_try\n",
    "\n",
    "        loglike = loglike_try\n",
    "\n",
    "        if(i>Burn_in_Time):\n",
    "            cadena_lcdm.append(np.array([Om,Ol,H0,loglike]))"
   ]
  },
  {
   "cell_type": "code",
   "execution_count": 139,
   "id": "da51c05d-f038-4d0e-bfeb-72fa6321300d",
   "metadata": {},
   "outputs": [
    {
     "data": {
      "text/plain": [
       "[array([   0.28386579,    0.71604921,   69.87741199, -271.37043093]),\n",
       " array([   0.28406202,    0.71585298,   69.85756306, -271.36144776]),\n",
       " array([   0.28086548,    0.71904952,   69.81554328, -271.27624219]),\n",
       " array([ 2.58063186e-01,  7.41851814e-01,  6.98516632e+01, -2.72156292e+02]),\n",
       " array([ 2.56507628e-01,  7.43407372e-01,  6.97603789e+01, -2.72923823e+02]),\n",
       " array([   0.28912734,    0.71078766,   69.89662181, -271.71675421]),\n",
       " array([   0.29781937,    0.70209563,   69.94194427, -272.77973891]),\n",
       " array([   0.29988461,    0.70003039,   69.89121031, -272.78433572]),\n",
       " array([ 2.48992408e-01,  7.50922592e-01,  6.99642579e+01, -2.72588827e+02]),\n",
       " array([   0.27297096,    0.72694404,   70.0897492 , -271.29109695]),\n",
       " array([ 2.62826547e-01,  7.37088453e-01,  7.01095044e+01, -2.71215758e+02]),\n",
       " array([ 2.55511250e-01,  7.44403750e-01,  7.02805407e+01, -2.71492659e+02]),\n",
       " array([ 2.42511281e-01,  7.57403719e-01,  7.03044829e+01, -2.72168248e+02]),\n",
       " array([   0.27370951,    0.72620549,   70.28752522, -272.14497197]),\n",
       " array([   0.27557169,    0.72434331,   70.41856921, -273.29101311]),\n",
       " array([ 2.41713979e-01,  7.58201021e-01,  7.02740451e+01, -2.72285480e+02]),\n",
       " array([   0.28002264,    0.71989236,   70.19459647, -272.17414327]),\n",
       " array([ 2.51297256e-01,  7.48617744e-01,  7.02948648e+01, -2.71624287e+02]),\n",
       " array([ 2.72892220e-01,  7.27022780e-01,  7.04400056e+01, -2.73152718e+02]),\n",
       " array([ 2.64620861e-01,  7.35294139e-01,  7.02393615e+01, -2.71434981e+02]),\n",
       " array([ 2.44259356e-01,  7.55655644e-01,  7.03252703e+01, -2.72015935e+02]),\n",
       " array([ 2.37570007e-01,  7.62344993e-01,  7.04096673e+01, -2.72533084e+02]),\n",
       " array([ 2.60943648e-01,  7.38971352e-01,  7.03510337e+01, -2.71728393e+02]),\n",
       " array([ 2.39928748e-01,  7.59986252e-01,  7.03733425e+01, -2.72339028e+02]),\n",
       " array([ 2.64200676e-01,  7.35714324e-01,  7.02655414e+01, -2.71506517e+02]),\n",
       " array([ 2.54917869e-01,  7.44997131e-01,  7.02835705e+01, -2.71508055e+02]),\n",
       " array([ 2.62087106e-01,  7.37827894e-01,  7.01899730e+01, -2.71294234e+02]),\n",
       " array([   0.27468095,    0.72523405,   70.09967087, -271.38615514]),\n",
       " array([   0.28915973,    0.71075527,   70.11756593, -272.71638919]),\n",
       " array([ 2.55177932e-01,  7.44737068e-01,  7.01435266e+01, -2.71457814e+02]),\n",
       " array([   0.30651724,    0.69339776,   70.1086989 , -275.53558403]),\n",
       " array([ 2.65147284e-01,  7.34767716e-01,  7.01765812e+01, -2.71288777e+02]),\n",
       " array([   0.28652777,    0.71338723,   70.19204001, -272.88945799]),\n",
       " array([ 2.35273562e-01,  7.64641438e-01,  7.00308820e+01, -2.74374861e+02]),\n",
       " array([   0.27821898,    0.72169602,   69.96541553, -271.25178354]),\n",
       " array([   0.27442548,    0.72548952,   69.97868213, -271.16671785]),\n",
       " array([ 2.70791018e-01,  7.29123982e-01,  6.99358961e+01, -2.71163598e+02]),\n",
       " array([ 2.62874234e-01,  7.37040766e-01,  6.99039193e+01, -2.71529230e+02]),\n",
       " array([ 2.66542149e-01,  7.33372851e-01,  6.99280037e+01, -2.71280098e+02]),\n",
       " array([ 2.57033393e-01,  7.42881607e-01,  7.00482146e+01, -2.71498757e+02]),\n",
       " array([   0.27954364,    0.72037136,   70.12847811, -271.79541654]),\n",
       " array([ 2.62161930e-01,  7.37753070e-01,  7.02388859e+01, -2.71390391e+02]),\n",
       " array([ 2.66852786e-01,  7.33062214e-01,  7.01321230e+01, -2.71229649e+02]),\n",
       " array([   0.29213184,    0.70778316,   70.13392559, -273.22922159]),\n",
       " array([   0.29222542,    0.70768958,   70.03423783, -272.58862389]),\n",
       " array([ 2.65434588e-01,  7.34480412e-01,  7.01591190e+01, -2.71259353e+02]),\n",
       " array([ 2.56112044e-01,  7.43802956e-01,  7.00808223e+01, -2.71490779e+02]),\n",
       " array([ 2.56993701e-01,  7.42921299e-01,  7.00564280e+01, -2.71484057e+02]),\n",
       " array([ 2.53956509e-01,  7.45958491e-01,  7.02266687e+01, -2.71485647e+02]),\n",
       " array([ 2.55082873e-01,  7.44832127e-01,  7.03257650e+01, -2.71585087e+02]),\n",
       " array([   0.28505429,    0.71486071,   70.18190779, -272.63694488]),\n",
       " array([   0.28006243,    0.71985257,   70.31098906, -272.96417452]),\n",
       " array([ 2.43591828e-01,  7.56323172e-01,  7.02866570e+01, -2.72095005e+02]),\n",
       " array([   0.275917  ,    0.723998  ,   70.3432539 , -272.72862565]),\n",
       " array([   0.28281611,    0.71709889,   70.22116631, -272.63801588]),\n",
       " array([ 2.68714397e-01,  7.31200603e-01,  7.02652571e+01, -2.71688002e+02]),\n",
       " array([ 2.39721357e-01,  7.60193643e-01,  7.02417729e+01, -2.72576242e+02]),\n",
       " array([ 2.42581044e-01,  7.57333956e-01,  7.01082322e+01, -2.72705426e+02]),\n",
       " array([ 2.31234762e-01,  7.68680238e-01,  7.01319068e+01, -2.74441800e+02]),\n",
       " array([ 2.44983915e-01,  7.54931085e-01,  7.02213486e+01, -2.72071826e+02]),\n",
       " array([ 2.53157369e-01,  7.46757631e-01,  7.00155443e+01, -2.71893264e+02]),\n",
       " array([ 2.53179430e-01,  7.46735570e-01,  7.01405534e+01, -2.71574761e+02]),\n",
       " array([ 2.62116106e-01,  7.37798894e-01,  7.02500593e+01, -2.71417649e+02]),\n",
       " array([ 2.66220955e-01,  7.33694045e-01,  7.03384301e+01, -2.71898177e+02]),\n",
       " array([ 2.58869372e-01,  7.41045628e-01,  7.01066614e+01, -2.71322983e+02]),\n",
       " array([ 2.57873904e-01,  7.42041096e-01,  7.01945009e+01, -2.71350530e+02]),\n",
       " array([ 2.46196539e-01,  7.53718461e-01,  7.01734184e+01, -2.72064109e+02]),\n",
       " array([ 2.57862698e-01,  7.42052302e-01,  7.01089547e+01, -2.71362388e+02]),\n",
       " array([ 2.64795296e-01,  7.35119704e-01,  7.01129738e+01, -2.71198465e+02]),\n",
       " array([   0.27130678,    0.72860822,   70.02287414, -271.15311169]),\n",
       " array([   0.2811643 ,    0.7187507 ,   70.10159706, -271.80598641]),\n",
       " array([ 2.47731452e-01,  7.52183548e-01,  7.02116555e+01, -2.71855304e+02]),\n",
       " array([ 2.49200345e-01,  7.50714655e-01,  7.02489461e+01, -2.71718100e+02]),\n",
       " array([ 2.70180154e-01,  7.29734846e-01,  7.02238279e+01, -2.71590807e+02]),\n",
       " array([ 2.39277045e-01,  7.60637955e-01,  7.03179058e+01, -2.72457565e+02]),\n",
       " array([ 2.39281717e-01,  7.60633283e-01,  7.04466996e+01, -2.72397690e+02]),\n",
       " array([ 2.30962241e-01,  7.68952759e-01,  7.03646892e+01, -2.73378640e+02]),\n",
       " array([ 2.21681140e-01,  7.78233860e-01,  7.02903909e+01, -2.75398971e+02]),\n",
       " array([ 2.54159651e-01,  7.45755349e-01,  7.03260321e+01, -2.71596042e+02]),\n",
       " array([ 2.71775705e-01,  7.28139295e-01,  7.03202944e+01, -2.72180156e+02]),\n",
       " array([ 2.62577578e-01,  7.37337422e-01,  7.03105453e+01, -2.71618893e+02]),\n",
       " array([ 2.36439088e-01,  7.63475912e-01,  7.02946872e+01, -2.72831957e+02]),\n",
       " array([ 2.48273497e-01,  7.51641503e-01,  7.01951458e+01, -2.71838313e+02]),\n",
       " array([   0.27536335,    0.72455165,   70.03338001, -271.25899515]),\n",
       " array([   0.29152331,    0.70839169,   69.96849258, -272.17912138]),\n",
       " array([   0.28197071,    0.71794429,   70.01769306, -271.55354142]),\n",
       " array([   0.28533125,    0.71458375,   69.9280639 , -271.53116965]),\n",
       " array([   0.2779485 ,    0.7219665 ,   69.84046149, -271.22800142]),\n",
       " array([ 2.62981214e-01,  7.36933786e-01,  6.98090772e+01, -2.71917915e+02]),\n",
       " array([   0.2955825 ,    0.7043325 ,   69.85200255, -272.14296446]),\n",
       " array([ 2.62966740e-01,  7.36948260e-01,  6.97590977e+01, -2.72192225e+02]),\n",
       " array([   0.31480257,    0.68511243,   69.66255699, -273.79300242]),\n",
       " array([ 2.65275436e-01,  7.34639564e-01,  6.96428626e+01, -2.72730023e+02]),\n",
       " array([   0.30342945,    0.69648555,   69.66753489, -272.43607439]),\n",
       " array([   0.28442618,    0.71548882,   69.73412532, -271.41353948]),\n",
       " array([ 2.57326855e-01,  7.42588145e-01,  6.96404219e+01, -2.73810547e+02]),\n",
       " array([   0.29665979,    0.70325521,   69.43190816, -272.36336848]),\n",
       " array([   0.29211255,    0.70780245,   69.36338807, -272.77152079]),\n",
       " array([   0.29738219,    0.70253281,   69.39770289, -272.5128882 ]),\n",
       " array([   0.29987872,    0.70003628,   69.34177469, -272.78406154]),\n",
       " array([   0.30908092,    0.69083408,   69.38779047, -272.90839086]),\n",
       " array([ 2.66916108e-01,  7.32998892e-01,  6.95766896e+01, -2.73063555e+02]),\n",
       " array([ 2.69990356e-01,  7.29924644e-01,  6.96433356e+01, -2.72267670e+02]),\n",
       " array([   0.28312196,    0.71679304,   69.68068495, -271.51621405]),\n",
       " array([   0.29580457,    0.70411043,   69.64273653, -271.86728358]),\n",
       " array([   0.30627085,    0.69364415,   69.72748702, -272.8958312 ]),\n",
       " array([ 2.65745544e-01,  7.34169456e-01,  6.96343961e+01, -2.72741503e+02]),\n",
       " array([   0.27454087,    0.72537413,   69.60235245, -272.17297427]),\n",
       " array([ 2.67102305e-01,  7.32812695e-01,  6.95921754e+01, -2.72916774e+02]),\n",
       " array([   0.28843108,    0.71148392,   69.71412894, -271.52339189]),\n",
       " array([ 2.62758069e-01,  7.37156931e-01,  6.99489580e+01, -2.71402518e+02]),\n",
       " array([   0.27132853,    0.72858647,   69.9104815 , -271.18446552]),\n",
       " array([   0.27837821,    0.72153679,   69.81118834, -271.26403058]),\n",
       " array([   0.2777342 ,    0.7221808 ,   69.7144837 , -271.49952938]),\n",
       " array([   0.28988398,    0.71003102,   69.72060858, -271.56919284]),\n",
       " array([ 2.55444168e-01,  7.44470832e-01,  6.97205835e+01, -2.73387103e+02]),\n",
       " array([ 2.61022811e-01,  7.38892189e-01,  6.96522162e+01, -2.73172911e+02]),\n",
       " array([ 2.63617127e-01,  7.36297873e-01,  6.97368364e+01, -2.72263346e+02]),\n",
       " array([ 2.55141437e-01,  7.44773563e-01,  6.97576502e+01, -2.73131965e+02]),\n",
       " array([   0.2959427 ,    0.7039723 ,   69.71918247, -271.89504533]),\n",
       " array([   0.27705777,    0.72285723,   69.67153453, -271.68253964]),\n",
       " array([ 2.71655293e-01,  7.28259707e-01,  6.95525258e+01, -2.72750598e+02]),\n",
       " array([   0.29892143,    0.70099357,   69.5594143 , -272.09026063]),\n",
       " array([   0.28658811,    0.71332689,   69.65211969, -271.58972308]),\n",
       " array([ 2.65257948e-01,  7.34657052e-01,  6.98189474e+01, -2.71696303e+02]),\n",
       " array([   0.28487254,    0.71504246,   69.68164349, -271.51288358]),\n",
       " array([   0.29269921,    0.70721579,   69.85493114, -271.89133488]),\n",
       " array([   0.294004  ,    0.705911  ,   69.77144983, -271.82205416]),\n",
       " array([   0.27826331,    0.72165169,   69.58060802, -272.07050295]),\n",
       " array([   0.31945634,    0.68045866,   69.52652983, -273.9835311 ]),\n",
       " array([ 2.71485942e-01,  7.28429058e-01,  6.95127928e+01, -2.73084568e+02]),\n",
       " array([   0.30519422,    0.69472078,   69.56261201, -272.48573154]),\n",
       " array([   0.28972433,    0.71019067,   69.68862039, -271.58603916]),\n",
       " array([   0.27286392,    0.72705108,   69.67285785, -271.88820996]),\n",
       " array([   0.28274486,    0.71717014,   69.5829621 , -271.87167785]),\n",
       " array([   0.29998482,    0.69993018,   69.54069531, -272.16524151]),\n",
       " array([   0.28882505,    0.71108995,   69.47681036, -272.2181083 ]),\n",
       " array([   0.29708827,    0.70282673,   69.56820443, -271.99772138]),\n",
       " array([   0.29099367,    0.70892133,   69.521554  , -271.99806029]),\n",
       " array([   0.30612641,    0.69378859,   69.44129151, -272.6386528 ]),\n",
       " array([   0.28636127,    0.71355373,   69.37006374, -272.98612341]),\n",
       " array([   0.30808423,    0.69183077,   69.45615112, -272.74083142]),\n",
       " array([   0.30111316,    0.69880184,   69.65647557, -272.21929522]),\n",
       " array([   0.28461443,    0.71530057,   69.58587718, -271.81370914]),\n",
       " array([   0.27691376,    0.72300124,   69.64973414, -271.78500934]),\n",
       " array([   0.32358584,    0.67632916,   69.64608684, -275.16226834]),\n",
       " array([   0.30328374,    0.69663126,   69.65905987, -272.40878207]),\n",
       " array([   0.31494802,    0.68496698,   69.66500217, -273.82474587]),\n",
       " array([   0.29540262,    0.70451238,   69.78149508, -271.94483431]),\n",
       " array([   0.27789722,    0.72201778,   69.88643626, -271.2004703 ]),\n",
       " array([ 2.65075243e-01,  7.34839757e-01,  6.99453611e+01, -2.71301410e+02]),\n",
       " array([ 2.71215165e-01,  7.28699835e-01,  7.00860603e+01, -2.71231012e+02]),\n",
       " array([ 2.58753871e-01,  7.41161129e-01,  7.00196816e+01, -2.71456985e+02]),\n",
       " array([   0.27816228,    0.72175272,   69.9928858 , -271.29148412]),\n",
       " array([ 2.63146518e-01,  7.36768482e-01,  6.99706387e+01, -2.71332484e+02]),\n",
       " array([   0.28052086,    0.71939414,   69.75950609, -271.34699592]),\n",
       " array([ 2.66810705e-01,  7.33104295e-01,  6.98310814e+01, -2.71548306e+02])]"
      ]
     },
     "execution_count": 139,
     "metadata": {},
     "output_type": "execute_result"
    }
   ],
   "source": [
    "cadena_lcdm"
   ]
  },
  {
   "cell_type": "code",
   "execution_count": 141,
   "id": "9e43c187-43a2-42c2-9e22-4008f30194a7",
   "metadata": {},
   "outputs": [
    {
     "data": {
      "image/png": "[encoded data removed]",
      "text/plain": [
       "<Figure size 640x480 with 1 Axes>"
      ]
     },
     "metadata": {},
     "output_type": "display_data"
    }
   ],
   "source": [
    "A = np.array(cadena_lcdm)\n",
    "like = np.exp(-A[:,3]/np.min(A[:,3]))\n",
    "plt.figure()\n",
    "plt.scatter(A[:,0],A[:,2], c=like)\n",
    "plt.xlabel('$\\Omega_{m0}$')\n",
    "plt.ylabel('$H_0$')\n",
    "plt.grid(True)"
   ]
  },
  {
   "cell_type": "code",
   "execution_count": 143,
   "id": "4d6f7e7f-dc38-40ad-b32d-6d70f8e6a66e",
   "metadata": {},
   "outputs": [
    {
     "data": {
      "text/plain": [
       "(array([ 1.94570157,  3.89140314,  6.80995549, 11.18778402, 13.61991099,\n",
       "        16.05203795, 12.16063481,  5.35067932,  3.89140314,  1.45927618]),\n",
       " array([0.86905645, 0.88215081, 0.89524516, 0.90833952, 0.92143387,\n",
       "        0.93452823, 0.94762258, 0.96071694, 0.97381129, 0.98690565,\n",
       "        1.        ]),\n",
       " <BarContainer object of 10 artists>)"
      ]
     },
     "execution_count": 143,
     "metadata": {},
     "output_type": "execute_result"
    },
    {
     "data": {
      "image/png": "[encoded data removed]",
      "text/plain": [
       "<Figure size 640x480 with 1 Axes>"
      ]
     },
     "metadata": {},
     "output_type": "display_data"
    }
   ],
   "source": [
    "plt.hist(A[:,1]/np.max(A[:,1]),density=True)"
   ]
  },
  {
   "cell_type": "code",
   "execution_count": 107,
   "id": "1dac53d9-1250-4b6b-9335-471a84ebc57f",
   "metadata": {},
   "outputs": [],
   "source": [
    "from sklearn.preprocessing import MinMaxScaler"
   ]
  },
  {
   "cell_type": "code",
   "execution_count": 109,
   "id": "deba203c-4bac-4f34-a916-1ad82b42c038",
   "metadata": {},
   "outputs": [],
   "source": [
    "scaler = MinMaxScaler()"
   ]
  },
  {
   "cell_type": "code",
   "execution_count": 119,
   "id": "bf740b89-ba30-4976-964b-6d19a77f1ecd",
   "metadata": {},
   "outputs": [],
   "source": [
    "A0Norm = scaler.fit_transform(A)"
   ]
  },
  {
   "cell_type": "code",
   "execution_count": 125,
   "id": "5b9c3e29-43fa-45f8-b5de-dd3593c72d5a",
   "metadata": {},
   "outputs": [
    {
     "data": {
      "text/plain": [
       "1648.8764677376867"
      ]
     },
     "execution_count": 125,
     "metadata": {},
     "output_type": "execute_result"
    }
   ],
   "source": [
    "np.sum(A0Norm)"
   ]
  },
  {
   "cell_type": "code",
   "execution_count": 131,
   "id": "8f463ae5-5dc5-4c58-a7df-5452a716f47e",
   "metadata": {},
   "outputs": [
    {
     "data": {
      "text/plain": [
       "array([  0.89199681,   1.78121377,   2.68689961,   3.59967217,\n",
       "         4.50977265,   5.434721  ,   6.36193715,   7.30348863,\n",
       "         8.2277444 ,   9.14783928,  10.07634214,  11.02385629,\n",
       "        11.97304672,  12.92800886,  13.87036437,  14.81423458,\n",
       "        15.75133754,  16.69881745,  17.64828764,  18.59645003,\n",
       "        19.54628292,  20.4930333 ,  21.45192329,  22.40474341,\n",
       "        23.33680094,  24.28697223,  25.25296887,  26.21397229,\n",
       "        27.18283233,  28.15536145,  29.11705404,  30.07903651,\n",
       "        31.02359331,  31.96270798,  32.91260055,  33.85026964,\n",
       "        34.78118647,  35.70075529,  36.63420154,  37.57407581,\n",
       "        38.49866985,  39.41635188,  40.30840905,  41.20672293,\n",
       "        42.12256891,  43.05166635,  43.98098643,  44.90419874,\n",
       "        45.82364775,  46.75296725,  47.68945406,  48.61705804,\n",
       "        49.53612908,  50.45131341,  51.35465008,  52.25338942,\n",
       "        53.14491501,  54.06653447,  54.99578991,  55.92460155,\n",
       "        56.85570043,  57.78858462,  58.7187856 ,  59.64811443,\n",
       "        60.57886669,  61.49916765,  62.42789123,  63.35677649,\n",
       "        64.28953723,  65.22503658,  66.14717759,  67.06946826,\n",
       "        67.98009381,  68.89203475,  69.80259826,  70.71772928,\n",
       "        71.62537924,  72.50628757,  73.40101321,  74.32256733,\n",
       "        75.26481107,  76.21007131,  77.1609852 ,  78.11259246,\n",
       "        79.05808562,  80.01600418,  80.97594064,  81.92960212,\n",
       "        82.88637884,  83.84378368,  84.78773913,  85.73014555,\n",
       "        86.67992735,  87.63440651,  88.57606598,  89.52892678,\n",
       "        90.49207597,  91.42760732,  92.35245478,  93.27967714,\n",
       "        94.22141224,  95.14958828,  96.08330529,  97.02281848,\n",
       "        97.9504237 ,  98.87319568,  99.79047661, 100.70730253,\n",
       "       101.61516965, 102.51872826, 103.40037946, 104.2851483 ,\n",
       "       105.17600744, 106.05941883, 106.94654404, 107.83361811,\n",
       "       108.70805608, 109.60095672, 110.49160415, 111.38474565,\n",
       "       112.26679709, 113.16209088, 114.05853943, 114.95808379,\n",
       "       115.84559207, 116.72627812, 117.60924691, 118.49565802,\n",
       "       119.40554229, 120.32192026, 121.23735145, 122.16741119,\n",
       "       123.08533622, 123.98113378, 124.87897222, 125.78459326,\n",
       "       126.69954705, 127.60569   , 128.52369475, 129.44305256,\n",
       "       130.36053462, 131.28955273, 132.22880166, 133.16212499,\n",
       "       134.09829584, 135.01603529, 135.94945683, 136.88239478,\n",
       "       137.79872247, 138.69732172, 139.58527886, 140.47144426,\n",
       "       141.3713266 , 142.28836284, 143.18044408, 144.07114778,\n",
       "       144.95280332, 145.84179781, 146.7388525 , 147.63410607,\n",
       "       148.52049368, 149.39166386, 150.26822873, 151.15092223,\n",
       "       152.04704313, 152.97061103, 153.89828207, 154.84217546,\n",
       "       155.78699587, 156.71100138, 157.62357231, 158.54324334,\n",
       "       159.46259508, 160.39946204, 161.33443094, 162.28817678,\n",
       "       163.24003965, 164.19057698, 165.14045774, 166.08440794,\n",
       "       167.02333714, 167.98142768, 168.94892263, 169.90251547,\n",
       "       170.85276286, 171.80509905, 172.77774693, 173.74716155,\n",
       "       174.71584598, 175.68825276, 176.67041196, 177.65639766,\n",
       "       178.6450515 , 179.62504008, 180.61907968, 181.60623701,\n",
       "       182.58223569, 183.56686407, 184.55606242, 185.54707941,\n",
       "       186.54374756, 187.53587225, 188.51678482, 189.5053847 ,\n",
       "       190.49961686, 191.48105756, 192.45563264, 193.43517968,\n",
       "       194.41550454, 195.39731858, 196.37727325, 197.35527588,\n",
       "       198.33059001, 199.30884875, 200.28994665, 201.26510817,\n",
       "       202.24871846, 203.22367698, 204.19526544, 205.16060014,\n",
       "       206.12055383, 207.0797298 , 208.04054251, 208.99847264,\n",
       "       209.94086563, 210.87343691, 211.80173638, 212.72038343,\n",
       "       213.6340057 , 214.54487622, 215.46824638, 216.40665889,\n",
       "       217.34565179, 218.29341471, 219.2463213 , 220.20350193,\n",
       "       221.15433763, 222.10153981, 223.0444918 , 223.99591279,\n",
       "       224.93734765, 225.85780284, 226.79487943, 227.72695743,\n",
       "       228.66808945, 229.60876587, 230.54574316, 231.47923884,\n",
       "       232.41828224, 233.35388512, 234.28514518, 235.22587611,\n",
       "       236.16429214, 237.10364899, 238.06548219, 239.02639076,\n",
       "       239.99467941, 240.95427987, 241.9084615 , 242.84712958,\n",
       "       243.78561302, 244.74122177, 245.70971085, 246.66294414,\n",
       "       247.62094023, 248.59234759, 249.56678283, 250.53338582,\n",
       "       251.488043  , 252.43650764, 253.38417851, 254.32343704,\n",
       "       255.27435471, 256.21002362, 257.14410758, 258.08272083,\n",
       "       259.02241138, 259.95148771, 260.87849364, 261.79701091,\n",
       "       262.7225665 , 263.67628748, 264.63475297, 265.59955057,\n",
       "       266.56753076, 267.52151859, 268.50202126, 269.48967469,\n",
       "       270.46638615, 271.43232588, 272.41174391, 273.38204199,\n",
       "       274.33512477, 275.28074871, 276.22052147, 277.16068956,\n",
       "       278.11005108, 279.06307279, 280.01984521, 280.97217521,\n",
       "       281.91664177, 282.86169177, 283.80505318, 284.74462051,\n",
       "       285.70437799, 286.68036243, 287.653805  , 288.63024997,\n",
       "       289.59195083, 290.5636746 , 291.54147343, 292.52773953,\n",
       "       293.5208466 , 294.51468865, 295.50279805, 296.49203169,\n",
       "       297.48759529, 298.48759529, 299.48333578, 300.45964734,\n",
       "       301.44115998, 302.4132969 , 303.36461715, 304.32477093,\n",
       "       305.27835684, 306.23040114, 307.18200521, 308.12646477,\n",
       "       309.04843838, 309.97018338, 310.90000365, 311.82907769,\n",
       "       312.75058928, 313.67740077, 314.61670152, 315.56199119,\n",
       "       316.48696429, 317.39933509, 318.3072509 , 319.22272009,\n",
       "       320.14734369, 321.06857622, 321.9677142 , 322.86495   ,\n",
       "       323.75428619, 324.6343467 , 325.50499391, 326.37998753,\n",
       "       327.25524933, 328.13796867, 329.02242235, 329.91770732,\n",
       "       330.81573693, 331.72897422, 332.63380646, 333.529891  ,\n",
       "       334.4394166 , 335.33979202, 336.24215922, 337.1435888 ,\n",
       "       338.06387049, 339.00164445, 339.92916574, 340.84680301,\n",
       "       341.75870526, 342.66900282, 343.58882484, 344.49337823,\n",
       "       345.39389472, 346.29634537, 347.21510287, 348.10620126,\n",
       "       349.00765118, 349.91020674, 350.81485118, 351.72362787,\n",
       "       352.64692036, 353.54345613, 354.43907347, 355.32681921,\n",
       "       356.22262852, 357.12585097, 358.01853989, 358.91236702,\n",
       "       359.81330683, 360.69021193, 361.57849161, 362.45953622,\n",
       "       363.33179021, 364.21458034, 365.09244314, 365.99301014,\n",
       "       366.8744659 , 367.74043263, 368.60891971, 369.49759301,\n",
       "       370.38206102, 371.24517319, 372.11908031, 372.99245282,\n",
       "       373.87226295, 374.76339122, 375.65655432, 376.56971441,\n",
       "       377.4699341 , 378.36824879, 379.25895256, 380.13576766,\n",
       "       381.00536632, 381.87330229, 382.75381759, 383.62952311,\n",
       "       384.52730738, 385.43257951, 386.32357059, 387.21011999,\n",
       "       388.09749008, 388.98240961, 389.87305699, 390.74615541,\n",
       "       391.61975493, 392.49757068, 393.41841299, 394.33506954,\n",
       "       395.24491583, 396.17728387, 397.10874543, 398.03040928,\n",
       "       398.93810684, 399.82976183, 400.71848164, 401.60788754,\n",
       "       402.49486819, 403.39109764, 404.28596105, 405.17646718,\n",
       "       406.08756207, 406.99857358, 407.92611918, 408.86218855,\n",
       "       409.78682398, 410.71538021, 411.62317982, 412.51785847,\n",
       "       413.43439445, 414.36574909, 415.28198549, 416.19587732,\n",
       "       417.12119701, 418.07139787, 419.02547351, 419.98501886,\n",
       "       420.92822202, 421.85202438, 422.76603056, 423.68523994,\n",
       "       424.62746875, 425.55628373, 426.48670417, 427.45350464,\n",
       "       428.41320839, 429.37083867, 430.33252455, 431.27489173,\n",
       "       432.22479698, 433.16195855, 434.11016251, 435.03650579,\n",
       "       435.95758934, 436.88105345, 437.80160103, 438.71761006,\n",
       "       439.65734495, 440.59473301, 441.52040279, 442.42969428,\n",
       "       443.32929233, 444.23687031, 445.16632268, 446.10503257,\n",
       "       447.05879946, 447.99911624, 448.94427578, 449.8840588 ,\n",
       "       450.81454211, 451.72442713, 452.64954196, 453.56871744,\n",
       "       454.50033091, 455.43831109, 456.3852563 , 457.30432491,\n",
       "       458.23977837, 459.15760445, 460.0737127 , 460.99963269,\n",
       "       461.93241847, 462.86652725, 463.78648483, 464.70358625,\n",
       "       465.61821478, 466.54294115, 467.47741336, 468.4131271 ,\n",
       "       469.35133748, 470.29508926, 471.25663887, 472.19930682,\n",
       "       473.14523866, 474.0803301 , 475.0028364 , 475.9388875 ,\n",
       "       476.86971487, 477.79342613, 478.72093237, 479.66641964,\n",
       "       480.60820424, 481.55282574, 482.4893733 , 483.44600484,\n",
       "       484.39307121, 485.35535632, 486.3236715 , 487.28509576,\n",
       "       488.2483946 , 489.21590686, 490.17288201, 491.13343491,\n",
       "       492.09919449, 493.05898873, 494.01688818, 494.97358317,\n",
       "       495.90555604, 496.82364029, 497.74094592, 498.65935493,\n",
       "       499.56678607, 500.45867872, 501.36524843, 502.27205258,\n",
       "       503.17893587, 504.08850807, 504.9821684 , 505.87424221,\n",
       "       506.77265649, 507.66417701, 508.54006327, 509.42046198,\n",
       "       510.29159202, 511.18025589, 512.05037159, 512.94610915,\n",
       "       513.84701481, 514.75228888, 515.66706636, 516.57683649,\n",
       "       517.48538108, 518.38721208, 519.28801984, 520.21382289,\n",
       "       521.12609392, 522.06498491, 523.01429443, 523.96628055,\n",
       "       524.92265404, 525.88369023, 526.84396741, 527.80959738,\n",
       "       528.77753555, 529.74828968, 530.72135496, 531.68202611,\n",
       "       532.62924442, 533.56790958, 534.50671172, 535.43800152,\n",
       "       536.36019628, 537.28965183, 538.2049743 , 539.1394099 ,\n",
       "       540.06600154, 541.00812151, 541.94933645, 542.89790842,\n",
       "       543.85493318, 544.80070856, 545.75018324, 546.7063494 ,\n",
       "       547.64665309, 548.58664852, 549.51462474, 550.45469429,\n",
       "       551.3913318 , 552.29839822, 553.20107063, 554.11318387,\n",
       "       555.03892583, 555.96530232, 556.88048327, 557.79204283,\n",
       "       558.71322579, 559.63764805, 560.58169549, 561.52331343,\n",
       "       562.48227434, 563.44834076, 564.41216718, 565.36641795,\n",
       "       566.32195205, 567.25947625, 568.2019807 , 569.13712679,\n",
       "       570.07236064, 570.99203884, 571.92572611, 572.84959724,\n",
       "       573.77758163, 574.70057988, 575.60819479, 576.52842974,\n",
       "       577.4583079 , 578.3752946 , 579.29547123, 580.23392375,\n",
       "       581.17444138, 582.09461898, 583.02590762, 583.95243274,\n",
       "       584.87160344, 585.80683702, 586.75031086, 587.69442423,\n",
       "       588.64402521, 589.56843406, 590.48996517, 591.4053196 ,\n",
       "       592.31293886, 593.21690838, 594.11655279, 595.03701277,\n",
       "       595.95795291, 596.87671352, 597.78985092, 598.71302624,\n",
       "       599.62945958, 600.54921581, 601.45954798, 602.36606459,\n",
       "       603.27525673, 604.19783892, 605.11278207, 606.01420357,\n",
       "       606.90785523, 607.81083964, 608.71266538, 609.61506055,\n",
       "       610.52630365, 611.44026091, 612.34467706, 613.26667493,\n",
       "       614.1770449 , 615.06642594, 615.96090983, 616.84579436,\n",
       "       617.72079302, 618.60806706, 619.49407478, 620.38718116,\n",
       "       621.27782908, 622.17637832, 623.07431515, 623.9870314 ,\n",
       "       624.89874197, 625.82112042, 626.74642263, 627.66778829,\n",
       "       628.59186085, 629.5125632 , 630.43842197, 631.37111894,\n",
       "       632.31488783, 633.2709489 , 634.21194965, 635.15298299,\n",
       "       636.08979923, 637.0222337 , 637.94520628, 638.89083701,\n",
       "       639.84658747, 640.82195233, 641.79701678, 642.77025225,\n",
       "       643.73911855, 644.70377713, 645.66978008, 646.63821765,\n",
       "       647.60450356, 648.5545308 , 649.51487772, 650.48840776,\n",
       "       651.4583595 , 652.41553611, 653.36281952, 654.29893006,\n",
       "       655.22558005, 656.15073916, 657.10093332, 658.04525828,\n",
       "       658.97070546, 659.90132711, 660.82459467, 661.72256267,\n",
       "       662.63575693, 663.53705687, 664.44339587, 665.35753013,\n",
       "       666.28283086, 667.18951685, 668.11653492, 669.0433664 ,\n",
       "       669.97268083, 670.90698993, 671.82726182, 672.7457484 ,\n",
       "       673.65331032, 674.5862481 , 675.50050794, 676.41099089,\n",
       "       677.31464217])"
      ]
     },
     "execution_count": 131,
     "metadata": {},
     "output_type": "execute_result"
    }
   ],
   "source": [
    "np.cumsum(A[:,1]/np.max(A[:,1]))"
   ]
  },
  {
   "cell_type": "code",
   "execution_count": null,
   "id": "3497c23b-ea23-4440-b395-50aef2cfa27c",
   "metadata": {},
   "outputs": [],
   "source": []
  }
 ],
 "metadata": {
  "kernelspec": {
   "display_name": "Python 3 (ipykernel)",
   "language": "python",
   "name": "python3"
  },
  "language_info": {
   "codemirror_mode": {
    "name": "ipython",
    "version": 3
   },
   "file_extension": ".py",
   "mimetype": "text/x-python",
   "name": "python",
   "nbconvert_exporter": "python",
   "pygments_lexer": "ipython3",
   "version": "3.11.7"
  },
  "panel-cell-order": [
   "6f0307b7-8a97-44e9-80bd-39952e87223e",
   "859ee632-2411-4fcb-a320-f5e78ae7b0a0"
  ]
 },
 "nbformat": 4,
 "nbformat_minor": 5
}
