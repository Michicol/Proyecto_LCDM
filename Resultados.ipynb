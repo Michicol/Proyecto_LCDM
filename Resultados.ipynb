{
 "cells": [
  {
   "cell_type": "markdown",
   "id": "6f0307b7-8a97-44e9-80bd-39952e87223e",
   "metadata": {
    "panel-layout": {
     "height": 1426.933349609375,
     "visible": true,
     "width": 100
    }
   },
   "source": [
    "# Proyecto $\\Lambda CDM$\n",
    "\n",
    "En la presente notebook, en forma de resumen, se muestran resultados teóricos, así como el código que se utiliza para hacer estimaciones, de tal forma de corroborar la teoría.\n",
    "\n",
    "## Ley de Hubble\n",
    "\n",
    "Hubble y Humason, hicieron observaciones, las cuales les ayudaron a estimar dos importantes resultados\n",
    "\n",
    "1. Distancia de decenas de galaxias.\n",
    "2. Uno de los resultados que se utilizaran más adelante, es la proyección de su velocidad a lo largo de la línea de visión conocida como \"_**velocidad de recesión**_\", la cual se mide partiendo del corrimiento Doppler de la luz emitida por estrellas, algo importante a destacar es que se percataron de que entre más lejana es una galaxia, mayor es la velocidad de recesión. Además, la distancio y velocidad de recesión son proporcionales, y más aún la constante de proporcionalidad es la misma para todas las galaxias, de esta manera llegaron a lo que se conoce como **\"Ley de Hubble\"**\n",
    "\n",
    "<p style=\"border:2px solid Tomato;\"> $$V_r = H_0 d_L$$ </p>\n",
    "\n",
    "Donde \n",
    "\n",
    "- $H_0 \\simeq 70 km/s Mpc^{-1} \\rightarrow$  corresponde a la constante de Hubble\n",
    "- $d_L \\rightarrow$ distancia luminosa\n",
    "\n",
    "\n",
    "## Coordenadas comoviles, coordenadas propias y factor de escala\n",
    "\n",
    "<p style=\"color:rgb(71, 178, 255);\"> \"Coordenadas comoviles\"</p>\n",
    "\n",
    "- Etiqueta de la posición de las partículas, donde dichas partículas son galaxias, también se conoce como coordenadas de un <p style=\"color:Orange;\">\"observador comovil\"</p>\n",
    "\n",
    "<p style=\"color:rgb(71, 178, 255);\"> \"Observador comovil\"</p>\n",
    "\n",
    "- En un espacio curvo, es aquel que viaja anclado a partículas de prueba, la cual está aislada de otras partículas, la cual se mueve a lo largo de geodésicas de la métrica del espacio curvo, en las geodésicas de un universo homogéneo e isótropo, en expansión, sus coordenadas están “ancladas” a la expansión.\n",
    "\n",
    "Algo importante a mencionar, es que cuando hablamos de coordenadas comoviles las etiquetas no cambian, sin embargo, en el caso de las coordenadas físicas las etiquetas de los puntos sí cambian, a estas también se les conoce como <span style=\"color:Orange;\">coordenadas propias</span> y están dadas por\n",
    "\n",
    "<p style=\"border:2px solid Tomato;\"> $$\\begin{equation} r=a(t)x \\end{equation}$$ </p>\n",
    "\n",
    "Donde\n",
    "\n",
    "$a(t)\\rightarrow$  es el <span style=\"color: Orange;\"> factor de escala</span>, que es una tasa de crecimiento de las distancias.\n",
    "\n",
    "Partiendo de la anterior ecuación, se puede deducir la ley de Hubble, únicamente se hace la derivada respecto al tiempo.\n",
    "\n",
    "$$\\begin{equation} v_r=\\dot{r}=\\frac{\\dot{a}}{a}ax+a\\dot{x} \\end{equation}$$ \n",
    "\n",
    "donde $r$ corresponde a la posición de una galaxia aislada, además se puede ignorar el segundo término del lado derecho, y adicional a esto se puede definir la tasa como $H$ es decir $H(t)=\\frac{\\dot{a}}{a}$, lo cual queda como \n",
    "\n",
    "<p style=\"border:2px solid Tomato;\"> $$\\begin{equation} v_r=H(t)r \\end{equation}$$ </p>\n",
    "\n",
    "Que corresponde a la velocidad de recesión\n",
    "\n",
    "\n",
    "## Métrica de Friedmann-Robertson-Walker (FRW)\n",
    "\n",
    "La métrica de LFRW representa la geometría que mejor se adapta al principio cosmológico y las observaciones de la expansión del universo, además esta se puede asociar a un elemento diferencial de línea que proporciona una forma de calcular distancias infinitesimales en dicho espacio, dicho lo anterior, esta métrica se representa de la siguiente manera.\n",
    "\n",
    "<p style=\"border:2px solid Tomato;\"> $$\\begin{equation} ds^2 = dt^2 - a^2(t)\\left[\\frac{dr^2}{1-kr^2}+r^2d\\theta^2+r^2\\sin^2{\\theta}d\\phi^2\\right]\\end{equation}$$ </p>\n",
    "\n",
    "En este caso, como ya mencionamos, el factor de escala se representa como $a(t)$, y, por otra parte, la coordenada radial $r$ no tiene unidades, y además $k$ representa el tipo de curvatura del espacio, y puede adquirir los siguientes valores.\n",
    "\n",
    "<p style=\"color:Orange;\"> $$k= \\begin{cases}+1 & \\text { universo cerrado } \\\\ 0 & \\text { universo plano } \\\\ -1 & \\text { universo abierto }\\end{cases}$$ </p>\n",
    "\n",
    "Estos valores son independientes del tamaño del universo, además si nuestro universo es plano o abierto, puede ser infinitamente grande, sin embargo, para el caso $k=+1$, se puede mostrar que la métrica LFRW corresponde a la métrica de una esfera.\n",
    "\n",
    "Por otra parte, si consideramos que el universo se rige por las ecuaciones de Einstein. \n",
    "\n",
    "<p style=\"border:2px solid Tomato;\">$$R_{\\mu\\nu}-\\frac{1}{2}g_{\\mu\\nu}R = 8\\pi T_{\\mu\\nu}$$</p>\n",
    "\n",
    "Donde $R_{\\mu\\nu}$ corresponde al tensro de Ricci, $R$ se le conoce como escalar de Ricci, $T_{\\mu\\nu}$ corresponde al tensor de energía-momento y, finalmente, $g_{\\mu\\nu}$ es la metrica.\n",
    "\n",
    "Además, el tensor de energía-momento tiene la forma siguiente.\n",
    "\n",
    "$$\\left(T^\\mu_{\\nu}\\right) = diag(\\rho,-P,-P,-P)$$\n",
    "\n",
    "Donde $\\rho$ corresponde a la densidad de energía y $P$ la presión del fluido, de manera que el universo se puede modelar como un fluido perfecto.\n",
    "\n",
    "Por otra parte las componentes no nulas del tensor de Ricci están dadas de la siguiente manera \n",
    "\n",
    "$$\\begin{align}R_{00} &= -3 \\frac{\\ddot{a}}{a}\\\\ R_{ij} &= -\\left[\\frac{\\ddot{a}}{a} + 2\\left(\\frac{\\dot{a}}{a}\\right)^2 +2\\frac{k}{a^2}\\right]g_{ij}\\end{align}$$\n",
    "\n",
    "Si consideramos la componente $(\\mu,\\nu)=(0,0)$  de la ecuacion de Einstein, y sustituyendo lo anterior, que son las compnente no nulas del tensor de Ricci, nos queda lo siguiente.\n",
    "\n",
    "$$\\begin{align}\n",
    "R_{00}-\\frac{1}{2}g_{00}R &= 8\\pi T_{00}\\\\\n",
    "-3\\frac{\\ddot{a}}{a} + \\frac{6}{2}\\left[\\frac{\\ddot{a}}{a} + \\left(\\frac{\\dot{a}}{a}\\right)^2+\\frac{k}{a^2}\\right]&=8\\pi\\rho\\\\\n",
    "\\end{align}$$\n",
    "Simplificando lo anterior nos queda lo siguiente \n",
    "\n",
    "$$\\begin{equation}\n",
    "3\\left[\\left(\\frac{\\dot{a}}{a}\\right)^2+\\frac{k}{a^2}\\right] = 8\\pi \\rho\n",
    "\\end{equation}$$\n",
    "\n",
    "O bien escrito de otra manera.\n",
    "\n",
    "<p style=\"border:2px solid Tomato;\">$$\\begin{equation}\n",
    "    \\left(\\frac{\\dot{a}}{a}\\right)^2 + \\frac{k}{a^2} = \\frac{8}{3}\\pi\\rho\n",
    "    \\end{equation}$$</p>\n",
    "\n",
    "Recordando lo que se discutió en la sección de <span style=\"color:Orange;\">Ley de Hubble</span> y la de <span style=\"color:Orange;\">Coordenadas comoviles, coordenadas propias y el factor de escala</span>, la anterior ecuación se puede reescribir de la siguiente forma.\n",
    "\n",
    "<p style=\"border:2px solid Tomato;\">$$\\begin{equation}\n",
    "    H^2 + \\frac{k}{a^2} = \\frac{8}{3}\\pi\\rho\n",
    "    \\end{equation}$$</p>\n",
    "\n",
    "La cual se conoce como <span style=\"color:Orange;\">La ecuación de Friedmann</span>"
   ]
  },
  {
   "cell_type": "code",
   "execution_count": 1,
   "id": "859ee632-2411-4fcb-a320-f5e78ae7b0a0",
   "metadata": {
    "panel-layout": {
     "height": 0,
     "visible": true,
     "width": 100
    }
   },
   "outputs": [],
   "source": [
    "from metodos.EDO import EDO\n",
    "import numpy as np\n",
    "import matplotlib.pyplot as plt\n",
    "import seaborn as sns\n",
    "plt.style.use('ggplot')"
   ]
  },
  {
   "cell_type": "code",
   "execution_count": 2,
   "id": "75370977-b77e-49f9-bfbb-979f3f297142",
   "metadata": {
    "editable": true,
    "slideshow": {
     "slide_type": ""
    },
    "tags": []
   },
   "outputs": [],
   "source": [
    "def friedmann(a, t, params):\n",
    "    omega_co, omega_ro = params\n",
    "    omega_Ao = 1 - omega_co - omega_ro\n",
    "    return a * np.sqrt(omega_co * a**(-3) + omega_ro * a**(-4) + omega_Ao)"
   ]
  },
  {
   "cell_type": "code",
   "execution_count": 3,
   "id": "68b0508c-72d5-48ee-9b9a-e7e8566d1b87",
   "metadata": {
    "editable": true,
    "slideshow": {
     "slide_type": ""
    },
    "tags": []
   },
   "outputs": [],
   "source": [
    "t_i = 1e-10\n",
    "t_f = 2\n",
    "t_valores = np.linspace(t_i,t_f,1000)\n",
    "omega_co = 0.3\n",
    "omega_ro = 0\n",
    "a_i = 1"
   ]
  },
  {
   "cell_type": "code",
   "execution_count": 4,
   "id": "252ed1bc-e890-4332-a116-95aeabae54c2",
   "metadata": {},
   "outputs": [],
   "source": [
    "a_valores = EDO.rk4Solve(friedmann,[a_i],t_valores,(omega_co,omega_ro))"
   ]
  },
  {
   "cell_type": "code",
   "execution_count": 5,
   "id": "5d4e952d-5893-49e4-a9d1-a0982c53277b",
   "metadata": {},
   "outputs": [
    {
     "data": {
      "text/plain": [
       "(0.0, 1.5)"
      ]
     },
     "execution_count": 5,
     "metadata": {},
     "output_type": "execute_result"
    },
    {
     "data": {
      "image/png": "[encoded data removed]",
      "text/plain": [
       "<Figure size 640x480 with 1 Axes>"
      ]
     },
     "metadata": {},
     "output_type": "display_data"
    }
   ],
   "source": [
    "plt.plot(t_valores,a_valores)\n",
    "plt.xlim(0,1.5)"
   ]
  },
  {
   "cell_type": "markdown",
   "id": "c35fdd75-8eb6-4e18-8fcd-cddf7753da15",
   "metadata": {},
   "source": [
    "## Solución con el método de Shooting (o de disparo)"
   ]
  },
  {
   "cell_type": "code",
   "execution_count": 17,
   "id": "ebcd4082-b5c8-41f8-8ec4-d4d35a06a315",
   "metadata": {},
   "outputs": [],
   "source": [
    "def Hubble_Time(H0):\n",
    "    yr=365*24*60*60\n",
    "    seg=1./yr # un segundo en años\n",
    "    seg=seg*1e-9 # un segundo en Giga-años\n",
    "    Mpc=con.parsec*1e6*1e-3 ## parsec a metros y luego a kilometros\n",
    "    H0_s=H0/Mpc  # H0 a 1/s\n",
    "    t=1./H0_s # tiempo de Hubble en segundos\n",
    "    t=t*seg # \" \" en Giga-años\n",
    "    return t"
   ]
  },
  {
   "cell_type": "code",
   "execution_count": null,
   "id": "6f29da1b-2fb7-473d-8475-96ccd7f34eaa",
   "metadata": {},
   "outputs": [],
   "source": [
    "def Ωk(Ωm,Ωl):\n",
    "    return Ωm+Ωl-1\n",
    "\n",
    "def h(z,Ωm,Ωl,H0):\n",
    "    return np.sqrt(Ωm*(z+1)**3+Ωl-Ωk(Ωm,Ωl)*(z+1)**2)\n",
    "\n",
    "\n",
    "def integrando(z,Ωm,Ωl,H0):\n",
    "    c=con.c*1e-3 # velocidad de luz en km/s\n",
    "    Hubble_size=c/H0\n",
    "    return  Hubble_size/h(z,Ωm,Ωl,H0)\n",
    "\n",
    "def χ(z,Ωm,Ωl,H0): # Distancia comovil entre la MW y alguna fuente lejana en Mpc\n",
    "    return quad(integrando,1e-6,z,args=(Ωm,Ωl,H0))[0]\n",
    "\n",
    "χ=np.vectorize(χ)\n",
    "\n",
    "\n",
    "def dL(z,Ωm,Ωl,H0):\n",
    "    return (1+z)*χ(z,Ωm,Ωl,H0)\n",
    "\n",
    "def mu(z,Ωm,Ωl,H0):\n",
    "    return 5*np.log10(((10**6)*dL(z,Ωm,Ωl,H0))/1)-5"
   ]
  },
  {
   "cell_type": "code",
   "execution_count": null,
   "id": "fe394af6-96bf-4a40-9509-aad51803e2ba",
   "metadata": {},
   "outputs": [],
   "source": []
  },
  {
   "cell_type": "code",
   "execution_count": null,
   "id": "24a465f5-9652-4767-9313-fce86ee0ef3a",
   "metadata": {},
   "outputs": [],
   "source": []
  }
 ],
 "metadata": {
  "kernelspec": {
   "display_name": "Python 3 (ipykernel)",
   "language": "python",
   "name": "python3"
  },
  "language_info": {
   "codemirror_mode": {
    "name": "ipython",
    "version": 3
   },
   "file_extension": ".py",
   "mimetype": "text/x-python",
   "name": "python",
   "nbconvert_exporter": "python",
   "pygments_lexer": "ipython3",
   "version": "3.11.11"
  },
  "panel-cell-order": [
   "6f0307b7-8a97-44e9-80bd-39952e87223e",
   "859ee632-2411-4fcb-a320-f5e78ae7b0a0"
  ]
 },
 "nbformat": 4,
 "nbformat_minor": 5
}
