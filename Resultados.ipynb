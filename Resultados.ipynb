{
 "cells": [
  {
   "cell_type": "markdown",
   "id": "6f0307b7-8a97-44e9-80bd-39952e87223e",
   "metadata": {
    "panel-layout": {
     "height": 1426.933349609375,
     "visible": true,
     "width": 100
    }
   },
   "source": [
    "# Proyecto $\\Lambda CDM$\n",
    "\n",
    "En la presente notebook, en forma de resumen, se muestran resultados teóricos, así como el código que se utiliza para hacer estimaciones, de tal forma de corroborar la teoría.\n",
    "\n",
    "## Ley de Hubble\n",
    "\n",
    "Hubble y Humason, hicieron observaciones, las cuales les ayudaron a estimar dos importantes resultados\n",
    "\n",
    "1. Distancia de decenas de galaxias.\n",
    "2. Uno de los resultados que se utilizaran más adelante, es la proyección de su velocidad a lo largo de la línea de visión conocida como \"_**velocidad de recesión**_\", la cual se mide partiendo del corrimiento Doppler de la luz emitida por estrellas, algo importante a destacar es que se percataron de que entre más lejana es una galaxia, mayor es la velocidad de recesión. Además, la distancio y velocidad de recesión son proporcionales, y más aún la constante de proporcionalidad es la misma para todas las galaxias, de esta manera llegaron a lo que se conoce como **\"Ley de Hubble\"**\n",
    "\n",
    "<p style=\"border:2px solid Tomato;\"> $$V_r = H_0 d_L$$ </p>\n",
    "\n",
    "Donde \n",
    "\n",
    "- $H_0 \\simeq 70 km/s Mpc^{-1} \\rightarrow$  corresponde a la constante de Hubble\n",
    "- $d_L \\rightarrow$ distancia luminosa\n",
    "\n",
    "\n",
    "## Coordenadas comoviles, coordenadas propias y factor de escala\n",
    "\n",
    "<p style=\"color:rgb(71, 178, 255);\"> \"Coordenadas comoviles\"</p>\n",
    "\n",
    "- Etiqueta de la posición de las partículas, donde dichas partículas son galaxias, también se conoce como coordenadas de un <p style=\"color:Orange;\">\"observador comovil\"</p>\n",
    "\n",
    "<p style=\"color:rgb(71, 178, 255);\"> \"Observador comovil\"</p>\n",
    "\n",
    "- En un espacio curvo, es aquel que viaja anclado a partículas de prueba, la cual está aislada de otras partículas, la cual se mueve a lo largo de geodésicas de la métrica del espacio curvo, en las geodésicas de un universo homogéneo e isótropo, en expansión, sus coordenadas están “ancladas” a la expansión.\n",
    "\n",
    "Algo importante a mencionar, es que cuando hablamos de coordenadas comoviles las etiquetas no cambian, sin embargo, en el caso de las coordenadas físicas las etiquetas de los puntos sí cambian, a estas también se les conoce como <span style=\"color:Orange;\">coordenadas propias</span> y están dadas por\n",
    "\n",
    "<p style=\"border:2px solid Tomato;\"> $$\\begin{equation} r=a(t)x \\end{equation}$$ </p>\n",
    "\n",
    "Donde\n",
    "\n",
    "$a(t)\\rightarrow$  es el <span style=\"color: Orange;\"> factor de escala</span>, que es una tasa de crecimiento de las distancias.\n",
    "\n",
    "Partiendo de la anterior ecuación, se puede deducir la ley de Hubble, únicamente se hace la derivada respecto al tiempo.\n",
    "\n",
    "$$\\begin{equation} v_r=\\dot{r}=\\frac{\\dot{a}}{a}ax+a\\dot{x} \\end{equation}$$ \n",
    "\n",
    "donde $r$ corresponde a la posición de una galaxia aislada, además se puede ignorar el segundo término del lado derecho, y adicional a esto se puede definir la tasa como $H$ es decir $H(t)=\\frac{\\dot{a}}{a}$, lo cual queda como \n",
    "\n",
    "<p style=\"border:2px solid Tomato;\"> $$\\begin{equation} v_r=H(t)r \\end{equation}$$ </p>\n",
    "\n",
    "Que corresponde a la velocidad de recesión\n",
    "\n",
    "\n",
    "## Métrica de Friedmann-Robertson-Walker (FRW)\n",
    "\n",
    "La métrica de LFRW representa la geometría que mejor se adapta al principio cosmológico y las observaciones de la expansión del universo, además esta se puede asociar a un elemento diferencial de línea que proporciona una forma de calcular distancias infinitesimales en dicho espacio, dicho lo anterior, esta métrica se representa de la siguiente manera.\n",
    "\n",
    "<p style=\"border:2px solid Tomato;\"> $$\\begin{equation} ds^2 = dt^2 - a^2(t)\\left[\\frac{dr^2}{1-kr^2}+r^2d\\theta^2+r^2\\sin^2{\\theta}d\\phi^2\\right]\\end{equation}$$ </p>\n",
    "\n",
    "En este caso, como ya mencionamos, el factor de escala se representa como $a(t)$, y, por otra parte, la coordenada radial $r$ no tiene unidades, y además $k$ representa el tipo de curvatura del espacio, y puede adquirir los siguientes valores.\n",
    "\n",
    "<p style=\"color:Orange;\"> $$k= \\begin{cases}+1 & \\text { universo cerrado } \\\\ 0 & \\text { universo plano } \\\\ -1 & \\text { universo abierto }\\end{cases}$$ </p>\n",
    "\n",
    "Estos valores son independientes del tamaño del universo, además si nuestro universo es plano o abierto, puede ser infinitamente grande, sin embargo, para el caso $k=+1$, se puede mostrar que la métrica LFRW corresponde a la métrica de una esfera.\n",
    "\n",
    "Por otra parte, si consideramos que el universo se rige por las ecuaciones de Einstein. \n",
    "\n",
    "<p style=\"border:2px solid Tomato;\">$$R_{\\mu\\nu}-\\frac{1}{2}g_{\\mu\\nu}R = 8\\pi T_{\\mu\\nu}$$</p>\n",
    "\n",
    "Donde $R_{\\mu\\nu}$ corresponde al tensro de Ricci, $R$ se le conoce como escalar de Ricci, $T_{\\mu\\nu}$ corresponde al tensor de energía-momento y, finalmente, $g_{\\mu\\nu}$ es la metrica.\n",
    "\n",
    "Además, el tensor de energía-momento tiene la forma siguiente.\n",
    "\n",
    "$$\\left(T^\\mu_{\\nu}\\right) = diag(\\rho,-P,-P,-P)$$\n",
    "\n",
    "Donde $\\rho$ corresponde a la densidad de energía y $P$ la presión del fluido, de manera que el universo se puede modelar como un fluido perfecto.\n",
    "\n",
    "Por otra parte las componentes no nulas del tensor de Ricci están dadas de la siguiente manera \n",
    "\n",
    "$$\n",
    "R_{00} = -3 \\frac{\\ddot{a}}{a}\n",
    "$$\n",
    "\n",
    "$$\n",
    "R_{ij} = -\\left[\\frac{\\ddot{a}}{a} + 2\\left(\\frac{\\dot{a}}{a}\\right)^2 +2\\frac{k}{a^2}\\right]g_{ij}\n",
    "$$\n",
    "\n",
    "y el escalar de Ricci \n",
    "\n",
    "$$\n",
    "R = -6 \\left[\\frac{\\ddot{a}}{a} + \\left(\\frac{\\dot{a}}{a}\\right)^2+\\frac{k}{a^2}\\right]\n",
    "$$\n",
    "\n",
    "Si consideramos la componente $(\\mu,\\nu)=(0,0)$  de la ecuacion de Einstein, y sustituyendo lo anterior, que son las compnente no nulas del tensor de Ricci, nos queda lo siguiente.\n",
    "\n",
    "$$\n",
    "R_{00}-\\frac{1}{2}g_{00}R = 8\\pi T_{00}\n",
    "$$\n",
    "\n",
    "$$\n",
    "-3\\frac{\\ddot{a}}{a} + \\frac{6}{2}\\left[\\frac{\\ddot{a}}{a} + \\left(\\frac{\\dot{a}}{a}\\right)^2+\\frac{k}{a^2}\\right]=8\\pi\\rho\n",
    "$$\n",
    "Simplificando lo anterior nos queda lo siguiente \n",
    "\n",
    "$$\\begin{equation}\n",
    "3\\left[\\left(\\frac{\\dot{a}}{a}\\right)^2+\\frac{k}{a^2}\\right] = 8\\pi \\rho\n",
    "\\end{equation}$$\n",
    "\n",
    "O bien escrito de otra manera.\n",
    "\n",
    "<p style=\"border:2px solid Tomato;\">$$\\begin{equation}\n",
    "    \\left(\\frac{\\dot{a}}{a}\\right)^2 + \\frac{k}{a^2} = \\frac{8}{3}\\pi\\rho\n",
    "    \\end{equation}$$</p>\n",
    "\n",
    "Recordando lo que se discutió en la sección de <span style=\"color:Orange;\">Ley de Hubble</span> y la de <span style=\"color:Orange;\">Coordenadas comoviles, coordenadas propias y el factor de escala</span>, la anterior ecuación se puede reescribir de la siguiente forma.\n",
    "\n",
    "<p style=\"border:2px solid Tomato;\">$$\\begin{equation}\n",
    "    H^2 + \\frac{k}{a^2} = \\frac{8}{3}\\pi\\rho\n",
    "    \\end{equation}$$</p>\n",
    "\n",
    "La cual se conoce como <span style=\"color:Orange;\">La ecuación de Friedmann</span>"
   ]
  },
  {
   "cell_type": "code",
   "execution_count": 1,
   "id": "d1e1e14c-3563-4efa-a90d-943cd78c7da7",
   "metadata": {},
   "outputs": [
    {
     "name": "stdout",
     "output_type": "stream",
     "text": [
      "Collecting pybind11\n",
      "  Downloading pybind11-2.13.6-py3-none-any.whl.metadata (9.5 kB)\n",
      "Downloading pybind11-2.13.6-py3-none-any.whl (243 kB)\n",
      "Installing collected packages: pybind11\n",
      "Successfully installed pybind11-2.13.6\n"
     ]
    }
   ],
   "source": [
    "!pip install pybind11"
   ]
  },
  {
   "cell_type": "code",
   "execution_count": 4,
   "id": "859ee632-2411-4fcb-a320-f5e78ae7b0a0",
   "metadata": {
    "panel-layout": {
     "height": 0,
     "visible": true,
     "width": 100
    }
   },
   "outputs": [],
   "source": [
    "from metodos.EDO import EDO\n",
    "import numpy as np\n",
    "import matplotlib.pyplot as plt\n",
    "import seaborn as sns\n",
    "from scipy.integrate import quad\n",
    "import astropy.constants as con\n",
    "import pandas as pd\n",
    "\n",
    "plt.style.use('ggplot')"
   ]
  },
  {
   "cell_type": "code",
   "execution_count": 7,
   "id": "75370977-b77e-49f9-bfbb-979f3f297142",
   "metadata": {
    "editable": true,
    "slideshow": {
     "slide_type": ""
    },
    "tags": []
   },
   "outputs": [],
   "source": [
    "def friedmann(a, t, params):\n",
    "    omega_co, omega_ro = params\n",
    "    omega_Ao = 1 - omega_co - omega_ro\n",
    "    return a * np.sqrt(omega_co * a**(-3) + omega_ro * a**(-4) + omega_Ao)"
   ]
  },
  {
   "cell_type": "code",
   "execution_count": 8,
   "id": "68b0508c-72d5-48ee-9b9a-e7e8566d1b87",
   "metadata": {
    "editable": true,
    "slideshow": {
     "slide_type": ""
    },
    "tags": []
   },
   "outputs": [],
   "source": [
    "t_i = 1e-10\n",
    "t_f = 2\n",
    "t_valores = np.linspace(t_i,t_f,1000)\n",
    "omega_co = 0.3\n",
    "omega_ro = 0\n",
    "a_i = 1"
   ]
  },
  {
   "cell_type": "code",
   "execution_count": 9,
   "id": "252ed1bc-e890-4332-a116-95aeabae54c2",
   "metadata": {},
   "outputs": [],
   "source": [
    "a_valores = EDO.rk4Solve(friedmann,[a_i],t_valores,(omega_co,omega_ro))"
   ]
  },
  {
   "cell_type": "code",
   "execution_count": 10,
   "id": "5d4e952d-5893-49e4-a9d1-a0982c53277b",
   "metadata": {},
   "outputs": [
    {
     "data": {
      "text/plain": [
       "(0.0, 1.5)"
      ]
     },
     "execution_count": 10,
     "metadata": {},
     "output_type": "execute_result"
    },
    {
     "data": {
      "image/png": "[encoded data removed]",
      "text/plain": [
       "<Figure size 640x480 with 1 Axes>"
      ]
     },
     "metadata": {},
     "output_type": "display_data"
    }
   ],
   "source": [
    "plt.plot(t_valores,a_valores)\n",
    "plt.xlim(0,1.5)"
   ]
  },
  {
   "cell_type": "markdown",
   "id": "c35fdd75-8eb6-4e18-8fcd-cddf7753da15",
   "metadata": {},
   "source": [
    "## Solución con el método de Shooting (o de disparo)"
   ]
  },
  {
   "cell_type": "code",
   "execution_count": 11,
   "id": "0f08e7d2-f1fb-41f9-9ea9-1516e54ba545",
   "metadata": {},
   "outputs": [],
   "source": [
    "def Hubble_Time(H0):\n",
    "    yr=365*24*60*60\n",
    "    seg=1./yr # un segundo en años\n",
    "    seg=seg*1e-9 # un segundo en Giga-años\n",
    "    Mpc=con.parsec*1e6*1e-3 ## parsec a metros y luego a kilometros\n",
    "    H0_s=H0/Mpc  # H0 a 1/s\n",
    "    t=1./H0_s # tiempo de Hubble en segundos\n",
    "    t=t*seg # \" \" en Giga-años\n",
    "    return t"
   ]
  },
  {
   "cell_type": "code",
   "execution_count": 12,
   "id": "fe394af6-96bf-4a40-9509-aad51803e2ba",
   "metadata": {},
   "outputs": [],
   "source": [
    "def h(z, Ω_dm, Ω_r, Ω_l, w_l, H0):\n",
    "    # Ecuación de Hubble modificada\n",
    "    H_squared = (\n",
    "        Ω_dm * (1 + z)**3 +         # Materia oscura (P=0 ⇒ w=0)\n",
    "        Ω_r * (1 + z)**4 +          # Radiación (P=ρ/3 ⇒ w=1/3)\n",
    "        Ω_l * (1 + z)**(3*(1 + w_l)) # Energía oscura (P=w_l*ρ)\n",
    "    )\n",
    "    return H0 * np.sqrt(H_squared)\n",
    "\n",
    "def integrando(z, Ω_dm, Ω_r, Ω_l, w_l, H0):\n",
    "    c = con.c.to('km/s').value\n",
    "    return c / h(z, Ω_dm, Ω_r, Ω_l, w_l, H0)\n",
    "\n",
    "def χ(z, Ω_dm, Ω_r, Ω_l, w_l, H0):\n",
    "    return quad(integrando, 1e-6, z, args=(Ω_dm, Ω_r, Ω_l, w_l, H0))[0]\n",
    "\n",
    "χ = np.vectorize(χ)\n",
    "\n",
    "def dL(z, Ω_dm, Ω_r, Ω_l, w_l, H0):\n",
    "    return (1 + z) * χ(z, Ω_dm, Ω_r, Ω_l, w_l, H0)\n",
    "\n",
    "def mu(z, Ω_dm, Ω_r, Ω_l, w_l, H0):\n",
    "    return 5 * np.log10(dL(z, Ω_dm, Ω_r, Ω_l, w_l, H0) * 1e6) - 5"
   ]
  },
  {
   "cell_type": "code",
   "execution_count": 2,
   "id": "24a465f5-9652-4767-9313-fce86ee0ef3a",
   "metadata": {},
   "outputs": [],
   "source": [
    "file = open('./SCPUnion2_mu_vs_z.txt')"
   ]
  },
  {
   "cell_type": "code",
   "execution_count": 5,
   "id": "03fcd314-9980-4731-afde-afd320274aaa",
   "metadata": {},
   "outputs": [],
   "source": [
    "data1 = pd.read_csv(file, skiprows=6, delimiter=\"\\t\",header=None,usecols=[1,2,3])\n",
    "data1.columns=['$z$','$\\mu$','$\\sigma_\\mu$']"
   ]
  },
  {
   "cell_type": "code",
   "execution_count": 15,
   "id": "ad4046f2-c2c8-4f59-9239-de9e2d262b7c",
   "metadata": {},
   "outputs": [
    {
     "data": {
      "text/plain": [
       "<Figure size 640x480 with 0 Axes>"
      ]
     },
     "metadata": {},
     "output_type": "display_data"
    },
    {
     "data": {
      "image/png": "[encoded data removed]",
      "text/plain": [
       "<Figure size 800x600 with 1 Axes>"
      ]
     },
     "metadata": {},
     "output_type": "display_data"
    }
   ],
   "source": [
    "z = np.linspace(0.001, 10,  1000)\n",
    "\n",
    "Ωm = [0.1,0.2,0.3,0.4,0.5,0.6,0.7,0.8,0.9]\n",
    "Ωl = [0.9,0.8,0.7,0.6,0.5,0.4,0.3,0.2,0.1]\n",
    "Ωr = 8.5e-5\n",
    "label = ['$\\Omega_m={},\\Omega_\\Lambda={},\\Omega_r$'.format(om,ol,8.5e-5) for om,ol in zip(Ωm,Ωl)]\n",
    "\n",
    "\n",
    "fig=plt.figure()\n",
    "data1.plot(x='$z$', y='$\\mu$', yerr='$\\sigma_\\mu$', kind='scatter',figsize=(8,6))\n",
    "[plt.plot(z,mu(z,Ωm[i],Ωr,Ωl[i],-1,70),label=label[i]) for i in range(9)]\n",
    "\n",
    "plt.xlim(0,1.5)\n",
    "plt.xlabel('$z$')\n",
    "plt.ylabel('$\\mu$')\n",
    "plt.legend()\n",
    "plt.grid(True)\n",
    "plt.show()"
   ]
  },
  {
   "cell_type": "code",
   "execution_count": 11,
   "id": "cc67e1f4-1627-43f3-a130-b52e340f6db0",
   "metadata": {},
   "outputs": [],
   "source": [
    "def PoissonLikelihood(dat, model_prediction):\n",
    "    loglike=0.0\n",
    "    for x, L in zip(dat, model_prediction):\n",
    "        if(L>0.0):\n",
    "            loglike = loglike - L + x*np.log(L)\n",
    "    return loglike\n",
    "\n",
    "def GaussianLikelihood(x_dat,x_teoria,sigma_d):\n",
    "    return np.sum(-(x_dat-x_teoria)**2/(2*sigma_d**2))"
   ]
  },
  {
   "cell_type": "code",
   "execution_count": 6,
   "id": "0a3da2c2-d1ea-435b-aea5-1038fc384911",
   "metadata": {},
   "outputs": [],
   "source": [
    "z = data1['$z$'].values\n",
    "mu_data = data1['$\\mu$'].values\n",
    "mu_err = data1['$\\sigma_\\mu$'].values"
   ]
  },
  {
   "cell_type": "code",
   "execution_count": 13,
   "id": "6e594312-b2c5-4156-a9c9-34e76d2ad1d8",
   "metadata": {},
   "outputs": [],
   "source": [
    "Om_min= 0.\n",
    "Om_max= 1.\n",
    "\n",
    "Ol_min = 0.\n",
    "Ol_max = 1.\n",
    "\n",
    "H0_min= 50.\n",
    "H0_max= 100."
   ]
  },
  {
   "cell_type": "code",
   "execution_count": 14,
   "id": "4dfea297-73d6-43a3-a19c-117adc31d93c",
   "metadata": {},
   "outputs": [],
   "source": [
    "Om = 0.3\n",
    "Ol = 0.2\n",
    "H0 = 70"
   ]
  },
  {
   "cell_type": "code",
   "execution_count": 15,
   "id": "f1afc631-5b5b-4d62-a95f-5e54004a13e1",
   "metadata": {},
   "outputs": [],
   "source": [
    "sigma_Om = 0.05\n",
    "sigma_Ol = 0.05\n",
    "sigma_H0 = 0.3"
   ]
  },
  {
   "cell_type": "code",
   "execution_count": 21,
   "id": "9d36ab7e-ab7f-4db2-b12a-1710ae231420",
   "metadata": {},
   "outputs": [],
   "source": [
    "# Inicialización de variables:\n",
    "random=0.0\n",
    "like = 1e-20\n",
    "loglike=np.log(like)\n",
    "#Numero total de iteraciones\n",
    "Number_of_steeps = 100\n",
    "#Numero de pasos iniciales antes de truncar la cadena\n",
    "Burn_in_Time = 20\n",
    "# Archivo de salida donde se escriben los pasos aceptados\n",
    "cadena_lcdm = []"
   ]
  },
  {
   "cell_type": "code",
   "execution_count": 22,
   "id": "fe605fcc-c96b-48df-9066-dd843251b717",
   "metadata": {},
   "outputs": [],
   "source": [
    "for i in range(Number_of_steeps):\n",
    "\n",
    "    # Escogiendo aleatoriamente un numero x2c de una muestra con distribucion normal (la distribucion propuesta q)\n",
    "\n",
    "\n",
    "    Om_try=abs(np.random.normal(Om,sigma_Om))\n",
    "    \n",
    "\n",
    "     # Si resulta que el valor del parametro se sale del rango permitido (λ1_min,λ1_max) entonces vuelve\n",
    "    # a escoger un valor nuevo.\n",
    "    while (Om_max<Om_try or Om_try<Om_min):\n",
    "        Om_try=abs(np.random.normal(Om,sigma_Om))\n",
    "\n",
    "    Ol_try = 1 - Om_try - Ωr\n",
    "\n",
    "    H0_try=abs(np.random.normal(H0,sigma_H0))\n",
    "    while  (H0_max<H0_try or H0_try<H0_min):\n",
    "        H0_try=abs(np.random.normal(H0,sigma_H0))\n",
    "\n",
    "\n",
    "    #Calculando la prediccion teórica usando la libreria que calcula predicciones teoricas\n",
    "    mu_theory=mu(z,Om_try,Ωr,Ol_try,-1,H0_try)\n",
    "\n",
    "    # Calculando la funcion de verosimilitud o likelihood (Poissoniana) para el punto inicial y los datos\n",
    "    #loglike_try = PoissonLikelihood(mu_data, mu_theory)\n",
    "    loglike_try = GaussianLikelihood(mu_data, mu_theory, mu_err)\n",
    "    #print(loglike_try)\n",
    "    if(np.isnan(loglike_try)==False):\n",
    "\n",
    "    #  Calculando la probabilidad de aceptación para el punto de prueba x2c:\n",
    "\n",
    "        if (loglike_try < loglike and i>0):\n",
    "            random = np.random.uniform(0.0,1.0)\n",
    "        # P(D|x2)q(x1|x2)/P(D|x1)q(x2|x1), q es gaussiana (~e^{(x1-x2)^2/sigma^2}) entonces q(x1|x2)=q(x2|x1)\n",
    "            accepted = np.exp(loglike_try - loglike)\n",
    "        else:\n",
    "            accepted = 1.\n",
    "\n",
    "     # Aqui se está tomando la decisión de si aceptar a x2c con probabilidad uniforme accepted\n",
    "\n",
    "    if ( random < accepted):\n",
    "        Om = Om_try\n",
    "        Ol = Ol_try\n",
    "        H0 = H0_try\n",
    "\n",
    "        loglike = loglike_try\n",
    "\n",
    "        if(i>Burn_in_Time):\n",
    "            cadena_lcdm.append(np.array([Om,H0,loglike]))"
   ]
  },
  {
   "cell_type": "code",
   "execution_count": 25,
   "id": "da51c05d-f038-4d0e-bfeb-72fa6321300d",
   "metadata": {},
   "outputs": [
    {
     "data": {
      "text/plain": [
       "[array([ 2.43128584e-01,  6.99346652e+01, -2.73658886e+02]),\n",
       " array([ 2.39762356e-01,  6.99301461e+01, -2.74305888e+02]),\n",
       " array([ 2.44445994e-01,  6.98997656e+01, -2.73698995e+02]),\n",
       " array([ 2.66867990e-01,  6.98884034e+01, -2.71361156e+02]),\n",
       " array([ 2.48744286e-01,  7.01291198e+01, -2.71939983e+02]),\n",
       " array([ 2.50631797e-01,  6.99900670e+01, -2.72258709e+02]),\n",
       " array([ 2.49688462e-01,  7.05770158e+01, -2.72517994e+02]),\n",
       " array([ 2.34539422e-01,  7.07337189e+01, -2.73393359e+02]),\n",
       " array([ 2.51725292e-01,  7.07050994e+01, -2.73460853e+02]),\n",
       " array([ 2.53278244e-01,  7.04518265e+01, -2.71981516e+02]),\n",
       " array([ 2.39196718e-01,  7.02298210e+01, -2.72675715e+02]),\n",
       " array([ 2.58231020e-01,  7.05133902e+01, -2.72455915e+02]),\n",
       " array([ 2.39002718e-01,  7.02473405e+01, -2.72646574e+02]),\n",
       " array([   0.28996794,   70.07315554, -272.54161335]),\n",
       " array([ 2.25075250e-01,  7.03922802e+01, -2.74222302e+02]),\n",
       " array([ 2.55065154e-01,  7.06359315e+01, -2.73124899e+02]),\n",
       " array([ 2.71442676e-01,  7.04405447e+01, -2.72995885e+02]),\n",
       " array([ 2.49248080e-01,  7.07044644e+01, -2.73322873e+02]),\n",
       " array([ 2.41009744e-01,  7.06126660e+01, -2.72699086e+02]),\n",
       " array([   0.27946906,   70.27989489, -272.66322394]),\n",
       " array([ 2.57366016e-01,  7.01805884e+01, -2.71357921e+02])]"
      ]
     },
     "execution_count": 25,
     "metadata": {},
     "output_type": "execute_result"
    }
   ],
   "source": [
    "cadena_lcdm"
   ]
  },
  {
   "cell_type": "code",
   "execution_count": 26,
   "id": "9e43c187-43a2-42c2-9e22-4008f30194a7",
   "metadata": {},
   "outputs": [
    {
     "data": {
      "image/png": "[encoded data removed]",
      "text/plain": [
       "<Figure size 640x480 with 1 Axes>"
      ]
     },
     "metadata": {},
     "output_type": "display_data"
    }
   ],
   "source": [
    "A = np.array(cadena_lcdm)\n",
    "like = np.exp(-A[:,2]/np.min(A[:,2]))\n",
    "plt.figure()\n",
    "plt.scatter(A[:,0],A[:,1], c=like)\n",
    "plt.xlabel('$\\Omega_{m0}$')\n",
    "plt.ylabel('$H_0$')\n",
    "plt.grid(True)"
   ]
  },
  {
   "cell_type": "code",
   "execution_count": 1,
   "id": "4d6f7e7f-dc38-40ad-b32d-6d70f8e6a66e",
   "metadata": {},
   "outputs": [],
   "source": [
    "import prueba"
   ]
  },
  {
   "cell_type": "code",
   "execution_count": null,
   "id": "64f09ef2-453a-48f7-b211-b0f24d234288",
   "metadata": {},
   "outputs": [],
   "source": [
    "import cosmology\n",
    "import numpy as np\n",
    "\n",
    "# Ejecutar MCMC\n",
    "chain = cosmology.Cosmology.run_mcmc(\n",
    "    z.tolist(),\n",
    "    mu.tolist(),\n",
    "    mu_err.tolist(),\n",
    "    n_steps=10000,\n",
    "    burn_in=1000\n",
    ")"
   ]
  }
 ],
 "metadata": {
  "kernelspec": {
   "display_name": "Python 3 (ipykernel)",
   "language": "python",
   "name": "python3"
  },
  "language_info": {
   "codemirror_mode": {
    "name": "ipython",
    "version": 3
   },
   "file_extension": ".py",
   "mimetype": "text/x-python",
   "name": "python",
   "nbconvert_exporter": "python",
   "pygments_lexer": "ipython3",
   "version": "3.9.2"
  },
  "panel-cell-order": [
   "6f0307b7-8a97-44e9-80bd-39952e87223e",
   "859ee632-2411-4fcb-a320-f5e78ae7b0a0"
  ]
 },
 "nbformat": 4,
 "nbformat_minor": 5
}
