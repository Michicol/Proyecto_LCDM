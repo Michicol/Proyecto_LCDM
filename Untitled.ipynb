{
 "cells": [
  {
   "cell_type": "markdown",
   "id": "6f0307b7-8a97-44e9-80bd-39952e87223e",
   "metadata": {
    "panel-layout": {
     "height": 1426.933349609375,
     "visible": true,
     "width": 100
    }
   },
   "source": [
    "# Proyecto $\\Lambda CDM$\n",
    "\n",
    "En la presente notebook, en forma de resumen se muestran resultados teoricos, así como el codigo que se utiliza para hacer estimaciones, de tal forma de corroborar la teoria.\n",
    "\n",
    "## Ley de Hubble\n",
    "\n",
    "Hubble y Humason, hicieron observaciones, las cuales les ayudaron a estimar dos importantes resultados\n",
    "\n",
    "1. Distancia de decenas de galaxias.\n",
    "2. Uno de los resultados que se utilizaran más adelante, es la proyección de su velocidad a lo largo de la linea de visión conocida como \"_**velocidad de recesión**_\", la cual se mide partiendo del corrimiento Doppler de la luz emitida por estrellas, algo importante a destacar es que se percataron de que entre más lejana es una galaxia, mayor es la velocidad de recesión. Además, la distancio y velocidad de recesión son proporcionales, y más aun la constante de proporcionalidad es la misma para todas las galaxias, de esta manera llegaron a lo que se conoce como **\"Ley de Hubble\"**\n",
    "\n",
    "<p style=\"border:2px solid Tomato;\"> $$V_r = H_0 d_L$$ </p>\n",
    "\n",
    "Donde \n",
    "\n",
    "- $H_0 \\simeq 70 km/s Mpc^{-1} \\rightarrow$  corresponde a la constante de Hubble\n",
    "- $d_L \\rightarrow$ distancia luminosa\n",
    "\n",
    "\n",
    "## Coordenadas comoviles, coordenadas propias y factor de escala\n",
    "\n",
    "<p style=\"color:rgb(71, 178, 255);\"> \"Coordenadas comoviles\"</p>\n",
    "\n",
    "- Etiqueta de la posición de las partículas, donde dichas partículas son galaxias, también se conoce como coordenadas de un <p style=\"color:Orange;\">\"observador comovil\"</p>\n",
    "\n",
    "<p style=\"color:rgb(71, 178, 255);\"> \"Observador comovil\"</p>\n",
    "\n",
    "- En un espacio curvo, es aquel que viaja anclado a partículas de prueba, la cual está aislada de otras partículas, la cual se mueve a lo largo de geodésicas de la métrica del espacio curvo, en las geodésicas de un universo homogéneo e isótropo, en expansión, sus coordenadas están “ancladas” a la expansión.\n",
    "\n",
    "Algo importante a mencionar, es que cuando hablamos de coordenadas comoviles las etiquetas no cambian, sin embargo en el caso de las coordenadas físicas las etiquetas de los puntos si cambian, a estas tambien se les conoce como <span style=\"color:Orange;\">coordenadas propias</span> y estan dadas por\n",
    "\n",
    "<p style=\"border:2px solid Tomato;\"> $$\\begin{equation} r=a(t)x \\end{equation}$$ </p>\n",
    "\n",
    "Donde\n",
    "\n",
    "$a(t)\\rightarrow$  es el <span style=\"color: Orange;\"> factor de escala</span>, que es una tasa de crecimiento de las distancias.\n",
    "\n",
    "Partiendo de la anterior ecuación, se puede deducir la ley de Hubble, unicamente se hace la derivada respecto al tiempo.\n",
    "\n",
    "$$\\begin{equation} v_r=\\dot{r}=\\frac{\\dot{a}}{a}ax+a\\dot{x} \\end{equation}$$ \n",
    "\n",
    "donde $r$ corresponde a la posición de una galaxia aislada, además se puede ignorar el segundo termino del lado derecho, y adicional a esto se pude definir la tasa como $H$ es decir $H(t)=\\frac{\\dot{a}}{a}$, lo cual queda como \n",
    "\n",
    "<p style=\"border:2px solid Tomato;\"> $$\\begin{equation} v_r=H(t)r \\end{equation}$$ </p>\n",
    "\n",
    "Que corresponde a la velocidad de recesión\n",
    "\n",
    "\n",
    "## Métrica de Friedmann-Robertson-Walker (FRW)\n",
    "\n",
    "La métrica de LFRW representa la geometria que mejor se adapta al principio cosmologico y las observaciones de la expación del universo, además esta se puede asociar a un elemento diferencial de linea que proporciona una forma de calcular diatancias infinitesimales en dicho espacio, dicho lo anterior, esta metrica se representa de la siguiente manera.\n",
    "\n",
    "<p style=\"border:2px solid Tomato;\"> $$\\begin{equation} ds^2 = dt^2 - a^2(t)\\left[\\frac{dr^2}{1-kr^2}+r^2d\\theta^2+r^2\\sin^2{\\theta}d\\phi^2\\right]\\end{equation}$$ </p>\n",
    "\n",
    "En este caso como ya mencionamos, el factor de escala se representa como $a(t)$, y por otra parte la coordenada radial $r$ no tiene unidades, y además $k$ representa el tipo de curvatura del espacio, y puede adquirir los siguientes valores.\n",
    "\n",
    "<p style=\"color:Orange;\"> $$k= \\begin{cases}+1 & \\text { universo cerrado } \\\\ 0 & \\text { universo plano } \\\\ -1 & \\text { universo abierto }\\end{cases}$$ </p>\n",
    "\n",
    "Estor valores son independientes del tamaño del universo, ademas si nuestro universo es plano o abierto, puede ser infinitamente grande, sin embargo para el caso $k=+1$, se pude mostrar que la métrica LFRW corresponde a la métrica de una esfera.\n",
    "\n",
    "Por otra parte si consideramos que el universo se rige por las ecuaciones de Einstein. \n",
    "\n",
    "<p style=\"border:2px solid Tomato;\">$$R_{\\mu\\nu}-\\frac{1}{2}g_{\\mu\\nu}R = 8\\pi T_{\\mu\\nu}$$</p>\n",
    "\n",
    "Donde $R_{\\mu\\nu}$ corresponde al tensro de Ricci, $R$ se le conoce como escalar de Ricci, $T_{\\mu\\nu}$ corresponde al tensor de energía-momento y, finalmente $g_{\\mu\\nu}$ es la metrica.\n",
    "\n",
    "Además el tensor de energía-momento tiene la forma siguiente.\n",
    "\n",
    "$$\\left(T^\\mu_{\\nu}\\right) = diag(\\rho,-P,-P,-P)$$\n",
    "\n",
    "donde $\\rho$ corresponde a la densidad de energía y $P$ la presión del fluido, de manera que el universo se puede modelar como un fluido perfecto.\n"
   ]
  },
  {
   "cell_type": "code",
   "execution_count": 1,
   "id": "859ee632-2411-4fcb-a320-f5e78ae7b0a0",
   "metadata": {
    "panel-layout": {
     "height": 0,
     "visible": true,
     "width": 100
    }
   },
   "outputs": [],
   "source": [
    "from EDO import EDO\n",
    "import numpy as np\n",
    "import matplotlib.pyplot as plt\n",
    "import seaborn as sns\n",
    "plt.style.use('bmh')"
   ]
  },
  {
   "cell_type": "code",
   "execution_count": 2,
   "id": "75370977-b77e-49f9-bfbb-979f3f297142",
   "metadata": {
    "editable": true,
    "slideshow": {
     "slide_type": ""
    },
    "tags": []
   },
   "outputs": [],
   "source": [
    "def friedmann(a, t, params):\n",
    "    omega_co, omega_ro = params\n",
    "    omega_Ao = 1 - omega_co - omega_ro\n",
    "    return a * np.sqrt(omega_co * a**(-3) + omega_ro * a**(-4) + omega_Ao)"
   ]
  },
  {
   "cell_type": "code",
   "execution_count": 3,
   "id": "68b0508c-72d5-48ee-9b9a-e7e8566d1b87",
   "metadata": {
    "editable": true,
    "slideshow": {
     "slide_type": ""
    },
    "tags": []
   },
   "outputs": [],
   "source": [
    "t_i = 1e-10\n",
    "t_f = 2\n",
    "t_valores = np.linspace(t_i,t_f,1000)\n",
    "omega_co = 0.3\n",
    "omega_ro = 0\n",
    "a_i = 1"
   ]
  },
  {
   "cell_type": "code",
   "execution_count": 4,
   "id": "22327767-c097-4bd5-8dd9-234a64488d9b",
   "metadata": {
    "editable": true,
    "slideshow": {
     "slide_type": ""
    },
    "tags": []
   },
   "outputs": [],
   "source": [
    "def rk4Solve(dYdX, Y0, X, args):\n",
    "    n = len(X)\n",
    "    h = X[1] - X[0]  # Paso de integración\n",
    "    Y = np.zeros((n, len(Y0)))\n",
    "    Y[0] = Y0\n",
    "    for i in range(n - 1):\n",
    "        k1 = dYdX(Y[i], X[i], args)\n",
    "        k2 = dYdX(Y[i] + k1 * h / 2., X[i] + h / 2., args)\n",
    "        k3 = dYdX(Y[i] + k2 * h / 2., X[i] + h / 2., args)\n",
    "        k4 = dYdX(Y[i] + k3 * h, X[i] + h, args)\n",
    "        Y[i + 1] = Y[i] + (h / 6.) * (k1 + 2*k2 + 2*k3 + k4)\n",
    "    return Y"
   ]
  },
  {
   "cell_type": "code",
   "execution_count": 5,
   "id": "93c8ab74-ba76-4d8c-b2f1-7fb43fdaa0a1",
   "metadata": {},
   "outputs": [],
   "source": [
    "a_valores = rk4Solve(friedmann,[a_i],t_valores,(omega_co,omega_ro))"
   ]
  },
  {
   "cell_type": "code",
   "execution_count": 7,
   "id": "5d4e952d-5893-49e4-a9d1-a0982c53277b",
   "metadata": {
    "scrolled": true
   },
   "outputs": [
    {
     "data": {
      "text/plain": [
       "(0.0, 1.5)"
      ]
     },
     "execution_count": 7,
     "metadata": {},
     "output_type": "execute_result"
    },
    {
     "data": {
      "image/png": "[encoded data removed]",
      "text/plain": [
       "<Figure size 640x480 with 1 Axes>"
      ]
     },
     "metadata": {},
     "output_type": "display_data"
    }
   ],
   "source": [
    "plt.plot(t_valores,a_valores)\n",
    "plt.xlim(0,1.5)"
   ]
  },
  {
   "cell_type": "code",
   "execution_count": null,
   "id": "60cf1ad1-cf4e-4ffd-8ead-1efbf3013a0e",
   "metadata": {},
   "outputs": [],
   "source": []
  }
 ],
 "metadata": {
  "kernelspec": {
   "display_name": "Python 3 (ipykernel)",
   "language": "python",
   "name": "python3"
  },
  "language_info": {
   "codemirror_mode": {
    "name": "ipython",
    "version": 3
   },
   "file_extension": ".py",
   "mimetype": "text/x-python",
   "name": "python",
   "nbconvert_exporter": "python",
   "pygments_lexer": "ipython3",
   "version": "3.11.11"
  },
  "panel-cell-order": [
   "6f0307b7-8a97-44e9-80bd-39952e87223e",
   "859ee632-2411-4fcb-a320-f5e78ae7b0a0"
  ]
 },
 "nbformat": 4,
 "nbformat_minor": 5
}
