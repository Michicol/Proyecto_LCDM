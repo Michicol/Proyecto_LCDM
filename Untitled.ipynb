{
 "cells": [
  {
   "cell_type": "code",
   "execution_count": 1,
   "id": "be091613-b7fc-4de5-ba22-589ecc71e6f1",
   "metadata": {},
   "outputs": [],
   "source": [
    "import Pkg"
   ]
  },
  {
   "cell_type": "code",
   "execution_count": null,
   "id": "1c965085-3506-4606-a0ba-d73672065484",
   "metadata": {},
   "outputs": [
    {
     "name": "stderr",
     "output_type": "stream",
     "text": [
      "\u001b[33m\u001b[1m┌ \u001b[22m\u001b[39m\u001b[33m\u001b[1mWarning: \u001b[22m\u001b[39mattempting to remove probably stale pidfile\n",
      "\u001b[33m\u001b[1m│ \u001b[22m\u001b[39m  path = \"/home/michicol/.julia/registries/.pid\"\n",
      "\u001b[33m\u001b[1m└ \u001b[22m\u001b[39m\u001b[90m@ FileWatching.Pidfile ~/.julia/juliaup/julia-1.11.4+0.x64.linux.gnu/share/julia/stdlib/v1.11/FileWatching/src/pidfile.jl:278\u001b[39m\n",
      "\u001b[32m\u001b[1m    Updating\u001b[22m\u001b[39m registry at `~/.julia/registries/General.toml`\n"
     ]
    }
   ],
   "source": [
    "Pkg.add(\"DifferentialEquations\")"
   ]
  },
  {
   "cell_type": "code",
   "execution_count": 4,
   "id": "289f046b-cb24-4e58-a06b-8d655497801c",
   "metadata": {},
   "outputs": [
    {
     "ename": "LoadError",
     "evalue": "ArgumentError: Package DifferentialEquations not found in current path.\n- Run `import Pkg; Pkg.add(\"DifferentialEquations\")` to install the DifferentialEquations package.",
     "output_type": "error",
     "traceback": [
      "ArgumentError: Package DifferentialEquations not found in current path.\n- Run `import Pkg; Pkg.add(\"DifferentialEquations\")` to install the DifferentialEquations package.",
      "",
      "Stacktrace:",
      " [1] macro expansion",
      "   @ ./loading.jl:2296 [inlined]",
      " [2] macro expansion",
      "   @ ./lock.jl:273 [inlined]",
      " [3] __require(into::Module, mod::Symbol)",
      "   @ Base ./loading.jl:2271",
      " [4] #invoke_in_world#3",
      "   @ ./essentials.jl:1089 [inlined]",
      " [5] invoke_in_world",
      "   @ ./essentials.jl:1086 [inlined]",
      " [6] require(into::Module, mod::Symbol)",
      "   @ Base ./loading.jl:2260"
     ]
    }
   ],
   "source": [
    "using Random\n",
    "using Plots\n",
    "using Statistics\n",
    "using LinearAlgebra\n",
    "using DifferentialEquations.jl"
   ]
  },
  {
   "cell_type": "code",
   "execution_count": 11,
   "id": "91edb6de-56b2-4cf0-bb3c-612d196f8071",
   "metadata": {},
   "outputs": [
    {
     "data": {
      "text/plain": [
       "friedmann (generic function with 1 method)"
      ]
     },
     "execution_count": 11,
     "metadata": {},
     "output_type": "execute_result"
    }
   ],
   "source": [
    "function friedmann(a, t, params)\n",
    "    omega_co, omega_ro = params\n",
    "    omega_Ao = 1 .- omega_co .- omega_ro\n",
    "    return a .* sqrt(omega_co .* a^(-3) .+ omega_ro .* a^(-4) .+ omega_Ao) \n",
    "end"
   ]
  },
  {
   "cell_type": "code",
   "execution_count": 10,
   "id": "c654a6ca-8cd6-4a9d-b2c7-de1f9785c78b",
   "metadata": {},
   "outputs": [
    {
     "data": {
      "text/plain": [
       "1"
      ]
     },
     "execution_count": 10,
     "metadata": {},
     "output_type": "execute_result"
    }
   ],
   "source": [
    "t_i = 1e-10\n",
    "t_f = 2\n",
    "t_valores = collect(LinRange(t_i,t_f,1000))\n",
    "omega_co = 0.3\n",
    "omega_ro = 0\n",
    "a_i = 1"
   ]
  },
  {
   "cell_type": "code",
   "execution_count": null,
   "id": "d494f625-308d-4c9e-b957-588d1c107484",
   "metadata": {},
   "outputs": [],
   "source": [
    "LinRange()"
   ]
  }
 ],
 "metadata": {
  "kernelspec": {
   "display_name": "Julia 1.11.4",
   "language": "julia",
   "name": "julia-1.11"
  },
  "language_info": {
   "file_extension": ".jl",
   "mimetype": "application/julia",
   "name": "julia",
   "version": "1.11.4"
  },
  "panel-cell-order": [
   "6f0307b7-8a97-44e9-80bd-39952e87223e",
   "859ee632-2411-4fcb-a320-f5e78ae7b0a0"
  ]
 },
 "nbformat": 4,
 "nbformat_minor": 5
}
